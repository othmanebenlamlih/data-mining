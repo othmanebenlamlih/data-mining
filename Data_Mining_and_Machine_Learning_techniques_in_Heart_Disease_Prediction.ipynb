{
  "nbformat": 4,
  "nbformat_minor": 0,
  "metadata": {
    "kernelspec": {
      "display_name": "Python 3",
      "language": "python",
      "name": "python3"
    },
    "language_info": {
      "codemirror_mode": {
        "name": "ipython",
        "version": 3
      },
      "file_extension": ".py",
      "mimetype": "text/x-python",
      "name": "python",
      "nbconvert_exporter": "python",
      "pygments_lexer": "ipython3",
      "version": "3.7.4"
    },
    "colab": {
      "name": "Data Mining and Machine Learning techniques in Heart Disease Prediction.ipynb",
      "provenance": [],
      "collapsed_sections": [],
      "toc_visible": true,
      "include_colab_link": true
    },
    "accelerator": "GPU"
  },
  "cells": [
    {
      "cell_type": "markdown",
      "metadata": {
        "id": "view-in-github",
        "colab_type": "text"
      },
      "source": [
        "<a href=\"https://colab.research.google.com/github/othmanebenlamlih/data-mining/blob/main/Data_Mining_and_Machine_Learning_techniques_in_Heart_Disease_Prediction.ipynb\" target=\"_parent\"><img src=\"https://colab.research.google.com/assets/colab-badge.svg\" alt=\"Open In Colab\"/></a>"
      ]
    },
    {
      "cell_type": "markdown",
      "metadata": {
        "id": "e7WpH1wDLlNL"
      },
      "source": [
        "NB : les codes utilisés dans ce notebook sont adapté d'apres les sources suivants: <br/>\r\n",
        "**courcera**  \r\n",
        "> Applied Machine Learning in Python\r\n",
        "> Introduction to Data Science in Python\r\n",
        "\r\n",
        "**Kaggle**\r\n",
        "\r\n",
        "> multiple_model_of_ML_and_deepLearning --> (https://www.kaggle.com/hasanmoni/multiple-model-of-ml-and-deeplearning)\r\n",
        "> Cardiovascular Classification --> (https://www.kaggle.com/kazimshaikh/cardiovascular-classification)\r\n",
        "\r\n",
        "\r\n",
        "\r\n",
        "\r\n",
        "\r\n",
        "\r\n",
        "\r\n",
        "\r\n",
        "\r\n",
        "\r\n",
        "\r\n"
      ]
    },
    {
      "cell_type": "code",
      "metadata": {
        "id": "L0WHdsl8siNG"
      },
      "source": [
        "import pandas as pd\n",
        "import numpy as np\n",
        "import os \n",
        "import matplotlib.pyplot as plt\n",
        "import seaborn as sns"
      ],
      "execution_count": null,
      "outputs": []
    },
    {
      "cell_type": "markdown",
      "metadata": {
        "id": "WImXL278siM0"
      },
      "source": [
        "# **Data Cleaning**\n"
      ]
    },
    {
      "cell_type": "code",
      "metadata": {
        "colab": {
          "base_uri": "https://localhost:8080/"
        },
        "id": "CJZF_4arv6dT",
        "outputId": "870d487d-7aa3-48ec-e5d8-29ea02629c21"
      },
      "source": [
        "from google.colab import drive \r\n",
        "drive.mount('/content/drive',force_remount=True)"
      ],
      "execution_count": null,
      "outputs": [
        {
          "output_type": "stream",
          "text": [
            "Mounted at /content/drive\n"
          ],
          "name": "stdout"
        }
      ]
    },
    {
      "cell_type": "code",
      "metadata": {
        "id": "hR4jDfXYxIQY"
      },
      "source": [
        "os.chdir(\"/content/drive/MyDrive/datam\")"
      ],
      "execution_count": null,
      "outputs": []
    },
    {
      "cell_type": "code",
      "metadata": {
        "colab": {
          "base_uri": "https://localhost:8080/"
        },
        "id": "S6TwJt5bzlfY",
        "outputId": "e2e6ace0-4aec-49a9-f00e-a8d78e955653"
      },
      "source": [
        "nRowsRead = 2000 # specify 'None' if want to read whole file\r\n",
        "# montgomery_metadata.csv may have more rows in reality, but we are only loading/previewing the first 1000 rows\r\n",
        "df = pd.read_csv('/content/drive/MyDrive/datam/data.csv', delimiter=',', nrows = nRowsRead)\r\n",
        "nRow, nCol = df.shape\r\n",
        "print(f'There are {nRow} rows and {nCol} columns')"
      ],
      "execution_count": null,
      "outputs": [
        {
          "output_type": "stream",
          "text": [
            "There are 1493 rows and 14 columns\n"
          ],
          "name": "stdout"
        }
      ]
    },
    {
      "cell_type": "code",
      "metadata": {
        "id": "TsSk6G6F2KQI"
      },
      "source": [
        "# data file\r\n",
        "#df = pd.read_csv(\"myDATA.csv\",encoding='latin1')\r\n"
      ],
      "execution_count": null,
      "outputs": []
    },
    {
      "cell_type": "code",
      "metadata": {
        "colab": {
          "base_uri": "https://localhost:8080/",
          "height": 419
        },
        "id": "1h6gMI1VsiNJ",
        "outputId": "f881e84a-b90b-4933-e78c-63723a7cfac8"
      },
      "source": [
        "df.head(2000)"
      ],
      "execution_count": null,
      "outputs": [
        {
          "output_type": "execute_result",
          "data": {
            "text/html": [
              "<div>\n",
              "<style scoped>\n",
              "    .dataframe tbody tr th:only-of-type {\n",
              "        vertical-align: middle;\n",
              "    }\n",
              "\n",
              "    .dataframe tbody tr th {\n",
              "        vertical-align: top;\n",
              "    }\n",
              "\n",
              "    .dataframe thead th {\n",
              "        text-align: right;\n",
              "    }\n",
              "</style>\n",
              "<table border=\"1\" class=\"dataframe\">\n",
              "  <thead>\n",
              "    <tr style=\"text-align: right;\">\n",
              "      <th></th>\n",
              "      <th>age</th>\n",
              "      <th>sex</th>\n",
              "      <th>cp</th>\n",
              "      <th>trestbps</th>\n",
              "      <th>chol</th>\n",
              "      <th>fbs</th>\n",
              "      <th>restecg</th>\n",
              "      <th>thalach</th>\n",
              "      <th>exang</th>\n",
              "      <th>oldpeak</th>\n",
              "      <th>slope</th>\n",
              "      <th>target</th>\n",
              "      <th>ca</th>\n",
              "      <th>thal</th>\n",
              "    </tr>\n",
              "  </thead>\n",
              "  <tbody>\n",
              "    <tr>\n",
              "      <th>0</th>\n",
              "      <td>63</td>\n",
              "      <td>1</td>\n",
              "      <td>3</td>\n",
              "      <td>145</td>\n",
              "      <td>233</td>\n",
              "      <td>1</td>\n",
              "      <td>0</td>\n",
              "      <td>150</td>\n",
              "      <td>0</td>\n",
              "      <td>2.3</td>\n",
              "      <td>0</td>\n",
              "      <td>1</td>\n",
              "      <td>0.0</td>\n",
              "      <td>1.0</td>\n",
              "    </tr>\n",
              "    <tr>\n",
              "      <th>1</th>\n",
              "      <td>37</td>\n",
              "      <td>1</td>\n",
              "      <td>2</td>\n",
              "      <td>130</td>\n",
              "      <td>250</td>\n",
              "      <td>0</td>\n",
              "      <td>1</td>\n",
              "      <td>187</td>\n",
              "      <td>0</td>\n",
              "      <td>3.5</td>\n",
              "      <td>0</td>\n",
              "      <td>1</td>\n",
              "      <td>0.0</td>\n",
              "      <td>2.0</td>\n",
              "    </tr>\n",
              "    <tr>\n",
              "      <th>2</th>\n",
              "      <td>41</td>\n",
              "      <td>0</td>\n",
              "      <td>1</td>\n",
              "      <td>130</td>\n",
              "      <td>204</td>\n",
              "      <td>0</td>\n",
              "      <td>0</td>\n",
              "      <td>172</td>\n",
              "      <td>0</td>\n",
              "      <td>1.4</td>\n",
              "      <td>2</td>\n",
              "      <td>1</td>\n",
              "      <td>0.0</td>\n",
              "      <td>2.0</td>\n",
              "    </tr>\n",
              "    <tr>\n",
              "      <th>3</th>\n",
              "      <td>56</td>\n",
              "      <td>1</td>\n",
              "      <td>1</td>\n",
              "      <td>120</td>\n",
              "      <td>236</td>\n",
              "      <td>0</td>\n",
              "      <td>1</td>\n",
              "      <td>178</td>\n",
              "      <td>0</td>\n",
              "      <td>0.8</td>\n",
              "      <td>2</td>\n",
              "      <td>1</td>\n",
              "      <td>0.0</td>\n",
              "      <td>2.0</td>\n",
              "    </tr>\n",
              "    <tr>\n",
              "      <th>4</th>\n",
              "      <td>57</td>\n",
              "      <td>0</td>\n",
              "      <td>0</td>\n",
              "      <td>120</td>\n",
              "      <td>354</td>\n",
              "      <td>0</td>\n",
              "      <td>1</td>\n",
              "      <td>163</td>\n",
              "      <td>1</td>\n",
              "      <td>0.6</td>\n",
              "      <td>2</td>\n",
              "      <td>1</td>\n",
              "      <td>0.0</td>\n",
              "      <td>2.0</td>\n",
              "    </tr>\n",
              "    <tr>\n",
              "      <th>...</th>\n",
              "      <td>...</td>\n",
              "      <td>...</td>\n",
              "      <td>...</td>\n",
              "      <td>...</td>\n",
              "      <td>...</td>\n",
              "      <td>...</td>\n",
              "      <td>...</td>\n",
              "      <td>...</td>\n",
              "      <td>...</td>\n",
              "      <td>...</td>\n",
              "      <td>...</td>\n",
              "      <td>...</td>\n",
              "      <td>...</td>\n",
              "      <td>...</td>\n",
              "    </tr>\n",
              "    <tr>\n",
              "      <th>1488</th>\n",
              "      <td>45</td>\n",
              "      <td>1</td>\n",
              "      <td>1</td>\n",
              "      <td>110</td>\n",
              "      <td>264</td>\n",
              "      <td>0</td>\n",
              "      <td>0</td>\n",
              "      <td>132</td>\n",
              "      <td>0</td>\n",
              "      <td>1.2</td>\n",
              "      <td>2</td>\n",
              "      <td>1</td>\n",
              "      <td>NaN</td>\n",
              "      <td>NaN</td>\n",
              "    </tr>\n",
              "    <tr>\n",
              "      <th>1489</th>\n",
              "      <td>68</td>\n",
              "      <td>1</td>\n",
              "      <td>4</td>\n",
              "      <td>144</td>\n",
              "      <td>193</td>\n",
              "      <td>1</td>\n",
              "      <td>0</td>\n",
              "      <td>141</td>\n",
              "      <td>0</td>\n",
              "      <td>3.4</td>\n",
              "      <td>2</td>\n",
              "      <td>1</td>\n",
              "      <td>NaN</td>\n",
              "      <td>NaN</td>\n",
              "    </tr>\n",
              "    <tr>\n",
              "      <th>1490</th>\n",
              "      <td>57</td>\n",
              "      <td>1</td>\n",
              "      <td>4</td>\n",
              "      <td>130</td>\n",
              "      <td>131</td>\n",
              "      <td>0</td>\n",
              "      <td>0</td>\n",
              "      <td>115</td>\n",
              "      <td>1</td>\n",
              "      <td>1.2</td>\n",
              "      <td>2</td>\n",
              "      <td>1</td>\n",
              "      <td>NaN</td>\n",
              "      <td>NaN</td>\n",
              "    </tr>\n",
              "    <tr>\n",
              "      <th>1491</th>\n",
              "      <td>57</td>\n",
              "      <td>0</td>\n",
              "      <td>2</td>\n",
              "      <td>130</td>\n",
              "      <td>236</td>\n",
              "      <td>0</td>\n",
              "      <td>2</td>\n",
              "      <td>174</td>\n",
              "      <td>0</td>\n",
              "      <td>0.0</td>\n",
              "      <td>2</td>\n",
              "      <td>1</td>\n",
              "      <td>NaN</td>\n",
              "      <td>NaN</td>\n",
              "    </tr>\n",
              "    <tr>\n",
              "      <th>1492</th>\n",
              "      <td>38</td>\n",
              "      <td>1</td>\n",
              "      <td>3</td>\n",
              "      <td>138</td>\n",
              "      <td>175</td>\n",
              "      <td>0</td>\n",
              "      <td>0</td>\n",
              "      <td>173</td>\n",
              "      <td>0</td>\n",
              "      <td>0.0</td>\n",
              "      <td>1</td>\n",
              "      <td>0</td>\n",
              "      <td>NaN</td>\n",
              "      <td>NaN</td>\n",
              "    </tr>\n",
              "  </tbody>\n",
              "</table>\n",
              "<p>1493 rows × 14 columns</p>\n",
              "</div>"
            ],
            "text/plain": [
              "      age  sex  cp  trestbps  chol  ...  oldpeak  slope  target   ca  thal\n",
              "0      63    1   3       145   233  ...      2.3      0       1  0.0   1.0\n",
              "1      37    1   2       130   250  ...      3.5      0       1  0.0   2.0\n",
              "2      41    0   1       130   204  ...      1.4      2       1  0.0   2.0\n",
              "3      56    1   1       120   236  ...      0.8      2       1  0.0   2.0\n",
              "4      57    0   0       120   354  ...      0.6      2       1  0.0   2.0\n",
              "...   ...  ...  ..       ...   ...  ...      ...    ...     ...  ...   ...\n",
              "1488   45    1   1       110   264  ...      1.2      2       1  NaN   NaN\n",
              "1489   68    1   4       144   193  ...      3.4      2       1  NaN   NaN\n",
              "1490   57    1   4       130   131  ...      1.2      2       1  NaN   NaN\n",
              "1491   57    0   2       130   236  ...      0.0      2       1  NaN   NaN\n",
              "1492   38    1   3       138   175  ...      0.0      1       0  NaN   NaN\n",
              "\n",
              "[1493 rows x 14 columns]"
            ]
          },
          "metadata": {
            "tags": []
          },
          "execution_count": 6
        }
      ]
    },
    {
      "cell_type": "markdown",
      "metadata": {
        "id": "BLi9NN7CsiNP"
      },
      "source": [
        "#  Columns\n"
      ]
    },
    {
      "cell_type": "code",
      "metadata": {
        "colab": {
          "base_uri": "https://localhost:8080/"
        },
        "id": "L3SeaEM6AjL9",
        "outputId": "fc6e81a1-ccdc-447d-e12e-501b16ad4916"
      },
      "source": [
        "df.columns"
      ],
      "execution_count": null,
      "outputs": [
        {
          "output_type": "execute_result",
          "data": {
            "text/plain": [
              "Index(['age', 'sex', 'cp', 'trestbps', 'chol', 'fbs', 'restecg', 'thalach',\n",
              "       'exang', 'oldpeak', 'slope', 'target', 'ca', 'thal'],\n",
              "      dtype='object')"
            ]
          },
          "metadata": {
            "tags": []
          },
          "execution_count": 7
        }
      ]
    },
    {
      "cell_type": "markdown",
      "metadata": {
        "id": "ze0yHCytjI30"
      },
      "source": [
        "---\r\n",
        "\r\n",
        "1.   ***age***: age in years.\r\n",
        "2.   ***sex***: sex (1 = male; 0 = female).\r\n",
        "3.   ***cp***: chest pain type :\r\n",
        "        *   *Value* 1: typical angina\r\n",
        "        *   *Value* 2: atypical angina\r\n",
        "        *   *Value* 3: non-anginal pain\r\n",
        "        *   *Value* 4: asymptomatic\r\n",
        "4.   ***trestbps***: resting blood pressure (in mm Hg on admission to the hospital).\r\n",
        "5.   ***chol***: serum cholestoral in mg/dl.\r\n",
        "6.   ***fbs***: (fasting blood sugar > 120 mg/dl) (1 = true; 0 = false).\r\n",
        "7.   ***restecg***: resting electrocardiographic results.\r\n",
        "8.   ***thalach***: maximum heart rate achieved.\r\n",
        "9.   ***exang***: exercise induced angina (1 = yes; 0 = no).\r\n",
        "10.  ***oldpeak*** = ST depression induced by exercise relative to rest.\r\n",
        "11.  ***slope***: the slope of the peak exercise ST segment:\r\n",
        "        *   *Value* 1: upsloping\r\n",
        "        *   *Value* 2: flat\r\n",
        "        *   *Value* 3: downsloping\r\n",
        "12.  ***ca***: number of major vessels (0-3) colored by flourosopy.\r\n",
        "13.  ***thal***: 3 = normal; 6 = fixed defect; 7 = reversable defect.\r\n",
        "\r\n",
        "\r\n",
        "\r\n",
        "\r\n",
        "\r\n",
        "\r\n",
        "\r\n",
        "\r\n",
        "\r\n",
        "---\r\n",
        "\r\n",
        "\r\n",
        "\r\n"
      ]
    },
    {
      "cell_type": "code",
      "metadata": {
        "colab": {
          "base_uri": "https://localhost:8080/"
        },
        "id": "p5VEqrZFAsKD",
        "outputId": "8c36a17e-1370-40b6-f487-947e9777d959"
      },
      "source": [
        "# Format de la source (nombre de lignes, nombre de colonnes)\r\n",
        "df.shape"
      ],
      "execution_count": null,
      "outputs": [
        {
          "output_type": "execute_result",
          "data": {
            "text/plain": [
              "(1493, 14)"
            ]
          },
          "metadata": {
            "tags": []
          },
          "execution_count": 8
        }
      ]
    },
    {
      "cell_type": "code",
      "metadata": {
        "scrolled": false,
        "colab": {
          "base_uri": "https://localhost:8080/"
        },
        "id": "b7I5EE4UsiNQ",
        "outputId": "28541eb4-5105-48fe-cb31-6f7eb100db96"
      },
      "source": [
        "#type of columns data\n",
        "df.dtypes"
      ],
      "execution_count": null,
      "outputs": [
        {
          "output_type": "execute_result",
          "data": {
            "text/plain": [
              "age           int64\n",
              "sex           int64\n",
              "cp            int64\n",
              "trestbps      int64\n",
              "chol          int64\n",
              "fbs           int64\n",
              "restecg       int64\n",
              "thalach       int64\n",
              "exang         int64\n",
              "oldpeak     float64\n",
              "slope         int64\n",
              "target        int64\n",
              "ca          float64\n",
              "thal        float64\n",
              "dtype: object"
            ]
          },
          "metadata": {
            "tags": []
          },
          "execution_count": 9
        }
      ]
    },
    {
      "cell_type": "code",
      "metadata": {
        "colab": {
          "base_uri": "https://localhost:8080/"
        },
        "id": "-21cEHiJAxgZ",
        "outputId": "90ac1d00-7c02-4fe8-deb3-e2deb5a8c76a"
      },
      "source": [
        "# Afficher des  informations sur les données\r\n",
        "df.info()"
      ],
      "execution_count": null,
      "outputs": [
        {
          "output_type": "stream",
          "text": [
            "<class 'pandas.core.frame.DataFrame'>\n",
            "RangeIndex: 1493 entries, 0 to 1492\n",
            "Data columns (total 14 columns):\n",
            " #   Column    Non-Null Count  Dtype  \n",
            "---  ------    --------------  -----  \n",
            " 0   age       1493 non-null   int64  \n",
            " 1   sex       1493 non-null   int64  \n",
            " 2   cp        1493 non-null   int64  \n",
            " 3   trestbps  1493 non-null   int64  \n",
            " 4   chol      1493 non-null   int64  \n",
            " 5   fbs       1493 non-null   int64  \n",
            " 6   restecg   1493 non-null   int64  \n",
            " 7   thalach   1493 non-null   int64  \n",
            " 8   exang     1493 non-null   int64  \n",
            " 9   oldpeak   1493 non-null   float64\n",
            " 10  slope     1493 non-null   int64  \n",
            " 11  target    1493 non-null   int64  \n",
            " 12  ca        303 non-null    float64\n",
            " 13  thal      303 non-null    float64\n",
            "dtypes: float64(3), int64(11)\n",
            "memory usage: 163.4 KB\n"
          ],
          "name": "stdout"
        }
      ]
    },
    {
      "cell_type": "code",
      "metadata": {
        "colab": {
          "base_uri": "https://localhost:8080/",
          "height": 317
        },
        "id": "dxrtdgzlBAkT",
        "outputId": "a5c7535b-7b76-410f-cfbe-e56e225c20fb"
      },
      "source": [
        "# Affiche quelques statistiques sur les données [\tStandard Deviation of the Values]\r\n",
        "df.describe()"
      ],
      "execution_count": null,
      "outputs": [
        {
          "output_type": "execute_result",
          "data": {
            "text/html": [
              "<div>\n",
              "<style scoped>\n",
              "    .dataframe tbody tr th:only-of-type {\n",
              "        vertical-align: middle;\n",
              "    }\n",
              "\n",
              "    .dataframe tbody tr th {\n",
              "        vertical-align: top;\n",
              "    }\n",
              "\n",
              "    .dataframe thead th {\n",
              "        text-align: right;\n",
              "    }\n",
              "</style>\n",
              "<table border=\"1\" class=\"dataframe\">\n",
              "  <thead>\n",
              "    <tr style=\"text-align: right;\">\n",
              "      <th></th>\n",
              "      <th>age</th>\n",
              "      <th>sex</th>\n",
              "      <th>cp</th>\n",
              "      <th>trestbps</th>\n",
              "      <th>chol</th>\n",
              "      <th>fbs</th>\n",
              "      <th>restecg</th>\n",
              "      <th>thalach</th>\n",
              "      <th>exang</th>\n",
              "      <th>oldpeak</th>\n",
              "      <th>slope</th>\n",
              "      <th>target</th>\n",
              "      <th>ca</th>\n",
              "      <th>thal</th>\n",
              "    </tr>\n",
              "  </thead>\n",
              "  <tbody>\n",
              "    <tr>\n",
              "      <th>count</th>\n",
              "      <td>1493.000000</td>\n",
              "      <td>1493.000000</td>\n",
              "      <td>1493.000000</td>\n",
              "      <td>1493.000000</td>\n",
              "      <td>1493.000000</td>\n",
              "      <td>1493.000000</td>\n",
              "      <td>1493.000000</td>\n",
              "      <td>1493.000000</td>\n",
              "      <td>1493.000000</td>\n",
              "      <td>1493.000000</td>\n",
              "      <td>1493.000000</td>\n",
              "      <td>1493.000000</td>\n",
              "      <td>303.000000</td>\n",
              "      <td>303.000000</td>\n",
              "    </tr>\n",
              "    <tr>\n",
              "      <th>mean</th>\n",
              "      <td>53.851306</td>\n",
              "      <td>0.747488</td>\n",
              "      <td>2.772940</td>\n",
              "      <td>132.046216</td>\n",
              "      <td>217.649699</td>\n",
              "      <td>0.200268</td>\n",
              "      <td>0.663764</td>\n",
              "      <td>141.744809</td>\n",
              "      <td>0.375084</td>\n",
              "      <td>0.946484</td>\n",
              "      <td>1.578701</td>\n",
              "      <td>0.531815</td>\n",
              "      <td>0.729373</td>\n",
              "      <td>2.313531</td>\n",
              "    </tr>\n",
              "    <tr>\n",
              "      <th>std</th>\n",
              "      <td>9.303455</td>\n",
              "      <td>0.434599</td>\n",
              "      <td>1.320601</td>\n",
              "      <td>18.198780</td>\n",
              "      <td>94.602143</td>\n",
              "      <td>0.400335</td>\n",
              "      <td>0.815076</td>\n",
              "      <td>25.318319</td>\n",
              "      <td>0.484307</td>\n",
              "      <td>1.102518</td>\n",
              "      <td>0.618093</td>\n",
              "      <td>0.499154</td>\n",
              "      <td>1.022606</td>\n",
              "      <td>0.612277</td>\n",
              "    </tr>\n",
              "    <tr>\n",
              "      <th>min</th>\n",
              "      <td>28.000000</td>\n",
              "      <td>0.000000</td>\n",
              "      <td>0.000000</td>\n",
              "      <td>0.000000</td>\n",
              "      <td>0.000000</td>\n",
              "      <td>0.000000</td>\n",
              "      <td>0.000000</td>\n",
              "      <td>60.000000</td>\n",
              "      <td>0.000000</td>\n",
              "      <td>-2.600000</td>\n",
              "      <td>0.000000</td>\n",
              "      <td>0.000000</td>\n",
              "      <td>0.000000</td>\n",
              "      <td>0.000000</td>\n",
              "    </tr>\n",
              "    <tr>\n",
              "      <th>25%</th>\n",
              "      <td>47.000000</td>\n",
              "      <td>0.000000</td>\n",
              "      <td>2.000000</td>\n",
              "      <td>120.000000</td>\n",
              "      <td>197.000000</td>\n",
              "      <td>0.000000</td>\n",
              "      <td>0.000000</td>\n",
              "      <td>123.000000</td>\n",
              "      <td>0.000000</td>\n",
              "      <td>0.000000</td>\n",
              "      <td>1.000000</td>\n",
              "      <td>0.000000</td>\n",
              "      <td>0.000000</td>\n",
              "      <td>2.000000</td>\n",
              "    </tr>\n",
              "    <tr>\n",
              "      <th>50%</th>\n",
              "      <td>54.000000</td>\n",
              "      <td>1.000000</td>\n",
              "      <td>3.000000</td>\n",
              "      <td>130.000000</td>\n",
              "      <td>232.000000</td>\n",
              "      <td>0.000000</td>\n",
              "      <td>0.000000</td>\n",
              "      <td>144.000000</td>\n",
              "      <td>0.000000</td>\n",
              "      <td>0.600000</td>\n",
              "      <td>2.000000</td>\n",
              "      <td>1.000000</td>\n",
              "      <td>0.000000</td>\n",
              "      <td>2.000000</td>\n",
              "    </tr>\n",
              "    <tr>\n",
              "      <th>75%</th>\n",
              "      <td>60.000000</td>\n",
              "      <td>1.000000</td>\n",
              "      <td>4.000000</td>\n",
              "      <td>140.000000</td>\n",
              "      <td>270.000000</td>\n",
              "      <td>0.000000</td>\n",
              "      <td>1.000000</td>\n",
              "      <td>161.000000</td>\n",
              "      <td>1.000000</td>\n",
              "      <td>1.600000</td>\n",
              "      <td>2.000000</td>\n",
              "      <td>1.000000</td>\n",
              "      <td>1.000000</td>\n",
              "      <td>3.000000</td>\n",
              "    </tr>\n",
              "    <tr>\n",
              "      <th>max</th>\n",
              "      <td>77.000000</td>\n",
              "      <td>1.000000</td>\n",
              "      <td>4.000000</td>\n",
              "      <td>200.000000</td>\n",
              "      <td>603.000000</td>\n",
              "      <td>1.000000</td>\n",
              "      <td>2.000000</td>\n",
              "      <td>202.000000</td>\n",
              "      <td>1.000000</td>\n",
              "      <td>6.200000</td>\n",
              "      <td>3.000000</td>\n",
              "      <td>1.000000</td>\n",
              "      <td>4.000000</td>\n",
              "      <td>3.000000</td>\n",
              "    </tr>\n",
              "  </tbody>\n",
              "</table>\n",
              "</div>"
            ],
            "text/plain": [
              "               age          sex  ...          ca        thal\n",
              "count  1493.000000  1493.000000  ...  303.000000  303.000000\n",
              "mean     53.851306     0.747488  ...    0.729373    2.313531\n",
              "std       9.303455     0.434599  ...    1.022606    0.612277\n",
              "min      28.000000     0.000000  ...    0.000000    0.000000\n",
              "25%      47.000000     0.000000  ...    0.000000    2.000000\n",
              "50%      54.000000     1.000000  ...    0.000000    2.000000\n",
              "75%      60.000000     1.000000  ...    1.000000    3.000000\n",
              "max      77.000000     1.000000  ...    4.000000    3.000000\n",
              "\n",
              "[8 rows x 14 columns]"
            ]
          },
          "metadata": {
            "tags": []
          },
          "execution_count": 11
        }
      ]
    },
    {
      "cell_type": "markdown",
      "metadata": {
        "id": "_iqdV-uRsiNT"
      },
      "source": [
        "### - Change the case to Upper or lower\n"
      ]
    },
    {
      "cell_type": "code",
      "metadata": {
        "colab": {
          "base_uri": "https://localhost:8080/"
        },
        "id": "VsDJjVcdsiNV",
        "outputId": "a9d85b49-5dad-400b-89e9-74a2d5823608"
      },
      "source": [
        "df.columns"
      ],
      "execution_count": null,
      "outputs": [
        {
          "output_type": "execute_result",
          "data": {
            "text/plain": [
              "Index(['age', 'sex', 'cp', 'trestbps', 'chol', 'fbs', 'restecg', 'thalach',\n",
              "       'exang', 'oldpeak', 'slope', 'target', 'ca', 'thal'],\n",
              "      dtype='object')"
            ]
          },
          "metadata": {
            "tags": []
          },
          "execution_count": 12
        }
      ]
    },
    {
      "cell_type": "code",
      "metadata": {
        "id": "ox3rJjvesiNY"
      },
      "source": [
        "df.columns = df.columns.str.upper()"
      ],
      "execution_count": null,
      "outputs": []
    },
    {
      "cell_type": "code",
      "metadata": {
        "colab": {
          "base_uri": "https://localhost:8080/"
        },
        "id": "ctFpVRhEsiNa",
        "outputId": "22e10946-55a1-45da-97c7-da253ce83f84"
      },
      "source": [
        "df.columns"
      ],
      "execution_count": null,
      "outputs": [
        {
          "output_type": "execute_result",
          "data": {
            "text/plain": [
              "Index(['AGE', 'SEX', 'CP', 'TRESTBPS', 'CHOL', 'FBS', 'RESTECG', 'THALACH',\n",
              "       'EXANG', 'OLDPEAK', 'SLOPE', 'TARGET', 'CA', 'THAL'],\n",
              "      dtype='object')"
            ]
          },
          "metadata": {
            "tags": []
          },
          "execution_count": 14
        }
      ]
    },
    {
      "cell_type": "markdown",
      "metadata": {
        "id": "QcwuFg69siNb"
      },
      "source": [
        "### - Renaming Columns"
      ]
    },
    {
      "cell_type": "code",
      "metadata": {
        "colab": {
          "base_uri": "https://localhost:8080/",
          "height": 419
        },
        "id": "him-EMoTsiNd",
        "outputId": "8966d823-072c-4c10-8ea0-1a2f927770a8"
      },
      "source": [
        "df.rename(columns = {'chol':'chol(mg/dl)'})"
      ],
      "execution_count": null,
      "outputs": [
        {
          "output_type": "execute_result",
          "data": {
            "text/html": [
              "<div>\n",
              "<style scoped>\n",
              "    .dataframe tbody tr th:only-of-type {\n",
              "        vertical-align: middle;\n",
              "    }\n",
              "\n",
              "    .dataframe tbody tr th {\n",
              "        vertical-align: top;\n",
              "    }\n",
              "\n",
              "    .dataframe thead th {\n",
              "        text-align: right;\n",
              "    }\n",
              "</style>\n",
              "<table border=\"1\" class=\"dataframe\">\n",
              "  <thead>\n",
              "    <tr style=\"text-align: right;\">\n",
              "      <th></th>\n",
              "      <th>AGE</th>\n",
              "      <th>SEX</th>\n",
              "      <th>CP</th>\n",
              "      <th>TRESTBPS</th>\n",
              "      <th>CHOL</th>\n",
              "      <th>FBS</th>\n",
              "      <th>RESTECG</th>\n",
              "      <th>THALACH</th>\n",
              "      <th>EXANG</th>\n",
              "      <th>OLDPEAK</th>\n",
              "      <th>SLOPE</th>\n",
              "      <th>TARGET</th>\n",
              "      <th>CA</th>\n",
              "      <th>THAL</th>\n",
              "    </tr>\n",
              "  </thead>\n",
              "  <tbody>\n",
              "    <tr>\n",
              "      <th>0</th>\n",
              "      <td>63</td>\n",
              "      <td>1</td>\n",
              "      <td>3</td>\n",
              "      <td>145</td>\n",
              "      <td>233</td>\n",
              "      <td>1</td>\n",
              "      <td>0</td>\n",
              "      <td>150</td>\n",
              "      <td>0</td>\n",
              "      <td>2.3</td>\n",
              "      <td>0</td>\n",
              "      <td>1</td>\n",
              "      <td>0.0</td>\n",
              "      <td>1.0</td>\n",
              "    </tr>\n",
              "    <tr>\n",
              "      <th>1</th>\n",
              "      <td>37</td>\n",
              "      <td>1</td>\n",
              "      <td>2</td>\n",
              "      <td>130</td>\n",
              "      <td>250</td>\n",
              "      <td>0</td>\n",
              "      <td>1</td>\n",
              "      <td>187</td>\n",
              "      <td>0</td>\n",
              "      <td>3.5</td>\n",
              "      <td>0</td>\n",
              "      <td>1</td>\n",
              "      <td>0.0</td>\n",
              "      <td>2.0</td>\n",
              "    </tr>\n",
              "    <tr>\n",
              "      <th>2</th>\n",
              "      <td>41</td>\n",
              "      <td>0</td>\n",
              "      <td>1</td>\n",
              "      <td>130</td>\n",
              "      <td>204</td>\n",
              "      <td>0</td>\n",
              "      <td>0</td>\n",
              "      <td>172</td>\n",
              "      <td>0</td>\n",
              "      <td>1.4</td>\n",
              "      <td>2</td>\n",
              "      <td>1</td>\n",
              "      <td>0.0</td>\n",
              "      <td>2.0</td>\n",
              "    </tr>\n",
              "    <tr>\n",
              "      <th>3</th>\n",
              "      <td>56</td>\n",
              "      <td>1</td>\n",
              "      <td>1</td>\n",
              "      <td>120</td>\n",
              "      <td>236</td>\n",
              "      <td>0</td>\n",
              "      <td>1</td>\n",
              "      <td>178</td>\n",
              "      <td>0</td>\n",
              "      <td>0.8</td>\n",
              "      <td>2</td>\n",
              "      <td>1</td>\n",
              "      <td>0.0</td>\n",
              "      <td>2.0</td>\n",
              "    </tr>\n",
              "    <tr>\n",
              "      <th>4</th>\n",
              "      <td>57</td>\n",
              "      <td>0</td>\n",
              "      <td>0</td>\n",
              "      <td>120</td>\n",
              "      <td>354</td>\n",
              "      <td>0</td>\n",
              "      <td>1</td>\n",
              "      <td>163</td>\n",
              "      <td>1</td>\n",
              "      <td>0.6</td>\n",
              "      <td>2</td>\n",
              "      <td>1</td>\n",
              "      <td>0.0</td>\n",
              "      <td>2.0</td>\n",
              "    </tr>\n",
              "    <tr>\n",
              "      <th>...</th>\n",
              "      <td>...</td>\n",
              "      <td>...</td>\n",
              "      <td>...</td>\n",
              "      <td>...</td>\n",
              "      <td>...</td>\n",
              "      <td>...</td>\n",
              "      <td>...</td>\n",
              "      <td>...</td>\n",
              "      <td>...</td>\n",
              "      <td>...</td>\n",
              "      <td>...</td>\n",
              "      <td>...</td>\n",
              "      <td>...</td>\n",
              "      <td>...</td>\n",
              "    </tr>\n",
              "    <tr>\n",
              "      <th>1488</th>\n",
              "      <td>45</td>\n",
              "      <td>1</td>\n",
              "      <td>1</td>\n",
              "      <td>110</td>\n",
              "      <td>264</td>\n",
              "      <td>0</td>\n",
              "      <td>0</td>\n",
              "      <td>132</td>\n",
              "      <td>0</td>\n",
              "      <td>1.2</td>\n",
              "      <td>2</td>\n",
              "      <td>1</td>\n",
              "      <td>NaN</td>\n",
              "      <td>NaN</td>\n",
              "    </tr>\n",
              "    <tr>\n",
              "      <th>1489</th>\n",
              "      <td>68</td>\n",
              "      <td>1</td>\n",
              "      <td>4</td>\n",
              "      <td>144</td>\n",
              "      <td>193</td>\n",
              "      <td>1</td>\n",
              "      <td>0</td>\n",
              "      <td>141</td>\n",
              "      <td>0</td>\n",
              "      <td>3.4</td>\n",
              "      <td>2</td>\n",
              "      <td>1</td>\n",
              "      <td>NaN</td>\n",
              "      <td>NaN</td>\n",
              "    </tr>\n",
              "    <tr>\n",
              "      <th>1490</th>\n",
              "      <td>57</td>\n",
              "      <td>1</td>\n",
              "      <td>4</td>\n",
              "      <td>130</td>\n",
              "      <td>131</td>\n",
              "      <td>0</td>\n",
              "      <td>0</td>\n",
              "      <td>115</td>\n",
              "      <td>1</td>\n",
              "      <td>1.2</td>\n",
              "      <td>2</td>\n",
              "      <td>1</td>\n",
              "      <td>NaN</td>\n",
              "      <td>NaN</td>\n",
              "    </tr>\n",
              "    <tr>\n",
              "      <th>1491</th>\n",
              "      <td>57</td>\n",
              "      <td>0</td>\n",
              "      <td>2</td>\n",
              "      <td>130</td>\n",
              "      <td>236</td>\n",
              "      <td>0</td>\n",
              "      <td>2</td>\n",
              "      <td>174</td>\n",
              "      <td>0</td>\n",
              "      <td>0.0</td>\n",
              "      <td>2</td>\n",
              "      <td>1</td>\n",
              "      <td>NaN</td>\n",
              "      <td>NaN</td>\n",
              "    </tr>\n",
              "    <tr>\n",
              "      <th>1492</th>\n",
              "      <td>38</td>\n",
              "      <td>1</td>\n",
              "      <td>3</td>\n",
              "      <td>138</td>\n",
              "      <td>175</td>\n",
              "      <td>0</td>\n",
              "      <td>0</td>\n",
              "      <td>173</td>\n",
              "      <td>0</td>\n",
              "      <td>0.0</td>\n",
              "      <td>1</td>\n",
              "      <td>0</td>\n",
              "      <td>NaN</td>\n",
              "      <td>NaN</td>\n",
              "    </tr>\n",
              "  </tbody>\n",
              "</table>\n",
              "<p>1493 rows × 14 columns</p>\n",
              "</div>"
            ],
            "text/plain": [
              "      AGE  SEX  CP  TRESTBPS  CHOL  ...  OLDPEAK  SLOPE  TARGET   CA  THAL\n",
              "0      63    1   3       145   233  ...      2.3      0       1  0.0   1.0\n",
              "1      37    1   2       130   250  ...      3.5      0       1  0.0   2.0\n",
              "2      41    0   1       130   204  ...      1.4      2       1  0.0   2.0\n",
              "3      56    1   1       120   236  ...      0.8      2       1  0.0   2.0\n",
              "4      57    0   0       120   354  ...      0.6      2       1  0.0   2.0\n",
              "...   ...  ...  ..       ...   ...  ...      ...    ...     ...  ...   ...\n",
              "1488   45    1   1       110   264  ...      1.2      2       1  NaN   NaN\n",
              "1489   68    1   4       144   193  ...      3.4      2       1  NaN   NaN\n",
              "1490   57    1   4       130   131  ...      1.2      2       1  NaN   NaN\n",
              "1491   57    0   2       130   236  ...      0.0      2       1  NaN   NaN\n",
              "1492   38    1   3       138   175  ...      0.0      1       0  NaN   NaN\n",
              "\n",
              "[1493 rows x 14 columns]"
            ]
          },
          "metadata": {
            "tags": []
          },
          "execution_count": 15
        }
      ]
    },
    {
      "cell_type": "markdown",
      "metadata": {
        "id": "hbHhJW6gsiNe"
      },
      "source": [
        "## Checking for missing data\n"
      ]
    },
    {
      "cell_type": "code",
      "metadata": {
        "colab": {
          "base_uri": "https://localhost:8080/",
          "height": 419
        },
        "id": "-v_38AUtsiNf",
        "outputId": "66b2be93-01d2-4161-8b8d-94e2d82db236"
      },
      "source": [
        "#False means no missing data\n",
        "df.isnull()"
      ],
      "execution_count": null,
      "outputs": [
        {
          "output_type": "execute_result",
          "data": {
            "text/html": [
              "<div>\n",
              "<style scoped>\n",
              "    .dataframe tbody tr th:only-of-type {\n",
              "        vertical-align: middle;\n",
              "    }\n",
              "\n",
              "    .dataframe tbody tr th {\n",
              "        vertical-align: top;\n",
              "    }\n",
              "\n",
              "    .dataframe thead th {\n",
              "        text-align: right;\n",
              "    }\n",
              "</style>\n",
              "<table border=\"1\" class=\"dataframe\">\n",
              "  <thead>\n",
              "    <tr style=\"text-align: right;\">\n",
              "      <th></th>\n",
              "      <th>AGE</th>\n",
              "      <th>SEX</th>\n",
              "      <th>CP</th>\n",
              "      <th>TRESTBPS</th>\n",
              "      <th>CHOL</th>\n",
              "      <th>FBS</th>\n",
              "      <th>RESTECG</th>\n",
              "      <th>THALACH</th>\n",
              "      <th>EXANG</th>\n",
              "      <th>OLDPEAK</th>\n",
              "      <th>SLOPE</th>\n",
              "      <th>TARGET</th>\n",
              "      <th>CA</th>\n",
              "      <th>THAL</th>\n",
              "    </tr>\n",
              "  </thead>\n",
              "  <tbody>\n",
              "    <tr>\n",
              "      <th>0</th>\n",
              "      <td>False</td>\n",
              "      <td>False</td>\n",
              "      <td>False</td>\n",
              "      <td>False</td>\n",
              "      <td>False</td>\n",
              "      <td>False</td>\n",
              "      <td>False</td>\n",
              "      <td>False</td>\n",
              "      <td>False</td>\n",
              "      <td>False</td>\n",
              "      <td>False</td>\n",
              "      <td>False</td>\n",
              "      <td>False</td>\n",
              "      <td>False</td>\n",
              "    </tr>\n",
              "    <tr>\n",
              "      <th>1</th>\n",
              "      <td>False</td>\n",
              "      <td>False</td>\n",
              "      <td>False</td>\n",
              "      <td>False</td>\n",
              "      <td>False</td>\n",
              "      <td>False</td>\n",
              "      <td>False</td>\n",
              "      <td>False</td>\n",
              "      <td>False</td>\n",
              "      <td>False</td>\n",
              "      <td>False</td>\n",
              "      <td>False</td>\n",
              "      <td>False</td>\n",
              "      <td>False</td>\n",
              "    </tr>\n",
              "    <tr>\n",
              "      <th>2</th>\n",
              "      <td>False</td>\n",
              "      <td>False</td>\n",
              "      <td>False</td>\n",
              "      <td>False</td>\n",
              "      <td>False</td>\n",
              "      <td>False</td>\n",
              "      <td>False</td>\n",
              "      <td>False</td>\n",
              "      <td>False</td>\n",
              "      <td>False</td>\n",
              "      <td>False</td>\n",
              "      <td>False</td>\n",
              "      <td>False</td>\n",
              "      <td>False</td>\n",
              "    </tr>\n",
              "    <tr>\n",
              "      <th>3</th>\n",
              "      <td>False</td>\n",
              "      <td>False</td>\n",
              "      <td>False</td>\n",
              "      <td>False</td>\n",
              "      <td>False</td>\n",
              "      <td>False</td>\n",
              "      <td>False</td>\n",
              "      <td>False</td>\n",
              "      <td>False</td>\n",
              "      <td>False</td>\n",
              "      <td>False</td>\n",
              "      <td>False</td>\n",
              "      <td>False</td>\n",
              "      <td>False</td>\n",
              "    </tr>\n",
              "    <tr>\n",
              "      <th>4</th>\n",
              "      <td>False</td>\n",
              "      <td>False</td>\n",
              "      <td>False</td>\n",
              "      <td>False</td>\n",
              "      <td>False</td>\n",
              "      <td>False</td>\n",
              "      <td>False</td>\n",
              "      <td>False</td>\n",
              "      <td>False</td>\n",
              "      <td>False</td>\n",
              "      <td>False</td>\n",
              "      <td>False</td>\n",
              "      <td>False</td>\n",
              "      <td>False</td>\n",
              "    </tr>\n",
              "    <tr>\n",
              "      <th>...</th>\n",
              "      <td>...</td>\n",
              "      <td>...</td>\n",
              "      <td>...</td>\n",
              "      <td>...</td>\n",
              "      <td>...</td>\n",
              "      <td>...</td>\n",
              "      <td>...</td>\n",
              "      <td>...</td>\n",
              "      <td>...</td>\n",
              "      <td>...</td>\n",
              "      <td>...</td>\n",
              "      <td>...</td>\n",
              "      <td>...</td>\n",
              "      <td>...</td>\n",
              "    </tr>\n",
              "    <tr>\n",
              "      <th>1488</th>\n",
              "      <td>False</td>\n",
              "      <td>False</td>\n",
              "      <td>False</td>\n",
              "      <td>False</td>\n",
              "      <td>False</td>\n",
              "      <td>False</td>\n",
              "      <td>False</td>\n",
              "      <td>False</td>\n",
              "      <td>False</td>\n",
              "      <td>False</td>\n",
              "      <td>False</td>\n",
              "      <td>False</td>\n",
              "      <td>True</td>\n",
              "      <td>True</td>\n",
              "    </tr>\n",
              "    <tr>\n",
              "      <th>1489</th>\n",
              "      <td>False</td>\n",
              "      <td>False</td>\n",
              "      <td>False</td>\n",
              "      <td>False</td>\n",
              "      <td>False</td>\n",
              "      <td>False</td>\n",
              "      <td>False</td>\n",
              "      <td>False</td>\n",
              "      <td>False</td>\n",
              "      <td>False</td>\n",
              "      <td>False</td>\n",
              "      <td>False</td>\n",
              "      <td>True</td>\n",
              "      <td>True</td>\n",
              "    </tr>\n",
              "    <tr>\n",
              "      <th>1490</th>\n",
              "      <td>False</td>\n",
              "      <td>False</td>\n",
              "      <td>False</td>\n",
              "      <td>False</td>\n",
              "      <td>False</td>\n",
              "      <td>False</td>\n",
              "      <td>False</td>\n",
              "      <td>False</td>\n",
              "      <td>False</td>\n",
              "      <td>False</td>\n",
              "      <td>False</td>\n",
              "      <td>False</td>\n",
              "      <td>True</td>\n",
              "      <td>True</td>\n",
              "    </tr>\n",
              "    <tr>\n",
              "      <th>1491</th>\n",
              "      <td>False</td>\n",
              "      <td>False</td>\n",
              "      <td>False</td>\n",
              "      <td>False</td>\n",
              "      <td>False</td>\n",
              "      <td>False</td>\n",
              "      <td>False</td>\n",
              "      <td>False</td>\n",
              "      <td>False</td>\n",
              "      <td>False</td>\n",
              "      <td>False</td>\n",
              "      <td>False</td>\n",
              "      <td>True</td>\n",
              "      <td>True</td>\n",
              "    </tr>\n",
              "    <tr>\n",
              "      <th>1492</th>\n",
              "      <td>False</td>\n",
              "      <td>False</td>\n",
              "      <td>False</td>\n",
              "      <td>False</td>\n",
              "      <td>False</td>\n",
              "      <td>False</td>\n",
              "      <td>False</td>\n",
              "      <td>False</td>\n",
              "      <td>False</td>\n",
              "      <td>False</td>\n",
              "      <td>False</td>\n",
              "      <td>False</td>\n",
              "      <td>True</td>\n",
              "      <td>True</td>\n",
              "    </tr>\n",
              "  </tbody>\n",
              "</table>\n",
              "<p>1493 rows × 14 columns</p>\n",
              "</div>"
            ],
            "text/plain": [
              "        AGE    SEX     CP  TRESTBPS  ...  SLOPE  TARGET     CA   THAL\n",
              "0     False  False  False     False  ...  False   False  False  False\n",
              "1     False  False  False     False  ...  False   False  False  False\n",
              "2     False  False  False     False  ...  False   False  False  False\n",
              "3     False  False  False     False  ...  False   False  False  False\n",
              "4     False  False  False     False  ...  False   False  False  False\n",
              "...     ...    ...    ...       ...  ...    ...     ...    ...    ...\n",
              "1488  False  False  False     False  ...  False   False   True   True\n",
              "1489  False  False  False     False  ...  False   False   True   True\n",
              "1490  False  False  False     False  ...  False   False   True   True\n",
              "1491  False  False  False     False  ...  False   False   True   True\n",
              "1492  False  False  False     False  ...  False   False   True   True\n",
              "\n",
              "[1493 rows x 14 columns]"
            ]
          },
          "metadata": {
            "tags": []
          },
          "execution_count": 16
        }
      ]
    },
    {
      "cell_type": "code",
      "metadata": {
        "colab": {
          "base_uri": "https://localhost:8080/"
        },
        "id": "YaW4soVBsiNg",
        "outputId": "1a22597c-5df6-4725-9b6a-1726451a04bf"
      },
      "source": [
        "# Columns with NAN using True/False\n",
        "# False means it doesn't have a NAN\n",
        "df.isnull().any()"
      ],
      "execution_count": null,
      "outputs": [
        {
          "output_type": "execute_result",
          "data": {
            "text/plain": [
              "AGE         False\n",
              "SEX         False\n",
              "CP          False\n",
              "TRESTBPS    False\n",
              "CHOL        False\n",
              "FBS         False\n",
              "RESTECG     False\n",
              "THALACH     False\n",
              "EXANG       False\n",
              "OLDPEAK     False\n",
              "SLOPE       False\n",
              "TARGET      False\n",
              "CA           True\n",
              "THAL         True\n",
              "dtype: bool"
            ]
          },
          "metadata": {
            "tags": []
          },
          "execution_count": 17
        }
      ]
    },
    {
      "cell_type": "code",
      "metadata": {
        "colab": {
          "base_uri": "https://localhost:8080/"
        },
        "id": "3I1kxh1ksiNg",
        "outputId": "803f9bd9-38a0-439c-cc93-7281acb3dd96"
      },
      "source": [
        "# checking for the entire DataFrame\n",
        "df.isnull().any().any()"
      ],
      "execution_count": null,
      "outputs": [
        {
          "output_type": "execute_result",
          "data": {
            "text/plain": [
              "True"
            ]
          },
          "metadata": {
            "tags": []
          },
          "execution_count": 18
        }
      ]
    },
    {
      "cell_type": "code",
      "metadata": {
        "colab": {
          "base_uri": "https://localhost:8080/"
        },
        "id": "tWN-ZJHQsiNh",
        "outputId": "75c91579-afe0-4077-db06-5c2d46068819"
      },
      "source": [
        "# the number Columns with NAN\n",
        "df.isnull().sum()"
      ],
      "execution_count": null,
      "outputs": [
        {
          "output_type": "execute_result",
          "data": {
            "text/plain": [
              "AGE            0\n",
              "SEX            0\n",
              "CP             0\n",
              "TRESTBPS       0\n",
              "CHOL           0\n",
              "FBS            0\n",
              "RESTECG        0\n",
              "THALACH        0\n",
              "EXANG          0\n",
              "OLDPEAK        0\n",
              "SLOPE          0\n",
              "TARGET         0\n",
              "CA          1190\n",
              "THAL        1190\n",
              "dtype: int64"
            ]
          },
          "metadata": {
            "tags": []
          },
          "execution_count": 19
        }
      ]
    },
    {
      "cell_type": "code",
      "metadata": {
        "colab": {
          "base_uri": "https://localhost:8080/"
        },
        "id": "JqqXXATgsiNi",
        "outputId": "2e68fd1f-989e-4add-aa9a-357fe631b715"
      },
      "source": [
        "# Total Number of Missing data\n",
        "df.isnull().sum().sum()"
      ],
      "execution_count": null,
      "outputs": [
        {
          "output_type": "execute_result",
          "data": {
            "text/plain": [
              "2380"
            ]
          },
          "metadata": {
            "tags": []
          },
          "execution_count": 20
        }
      ]
    },
    {
      "cell_type": "markdown",
      "metadata": {
        "id": "vOCTaXvNsiNj"
      },
      "source": [
        "##  Filling missing data with the mean of the values"
      ]
    },
    {
      "cell_type": "code",
      "metadata": {
        "colab": {
          "base_uri": "https://localhost:8080/",
          "height": 419
        },
        "id": "_HBtPLSvsiNi",
        "outputId": "df7eb0b2-8a16-4924-83d1-0dc13574ad41"
      },
      "source": [
        "df.head(2000)"
      ],
      "execution_count": null,
      "outputs": [
        {
          "output_type": "execute_result",
          "data": {
            "text/html": [
              "<div>\n",
              "<style scoped>\n",
              "    .dataframe tbody tr th:only-of-type {\n",
              "        vertical-align: middle;\n",
              "    }\n",
              "\n",
              "    .dataframe tbody tr th {\n",
              "        vertical-align: top;\n",
              "    }\n",
              "\n",
              "    .dataframe thead th {\n",
              "        text-align: right;\n",
              "    }\n",
              "</style>\n",
              "<table border=\"1\" class=\"dataframe\">\n",
              "  <thead>\n",
              "    <tr style=\"text-align: right;\">\n",
              "      <th></th>\n",
              "      <th>AGE</th>\n",
              "      <th>SEX</th>\n",
              "      <th>CP</th>\n",
              "      <th>TRESTBPS</th>\n",
              "      <th>CHOL</th>\n",
              "      <th>FBS</th>\n",
              "      <th>RESTECG</th>\n",
              "      <th>THALACH</th>\n",
              "      <th>EXANG</th>\n",
              "      <th>OLDPEAK</th>\n",
              "      <th>SLOPE</th>\n",
              "      <th>TARGET</th>\n",
              "      <th>CA</th>\n",
              "      <th>THAL</th>\n",
              "    </tr>\n",
              "  </thead>\n",
              "  <tbody>\n",
              "    <tr>\n",
              "      <th>0</th>\n",
              "      <td>63</td>\n",
              "      <td>1</td>\n",
              "      <td>3</td>\n",
              "      <td>145</td>\n",
              "      <td>233</td>\n",
              "      <td>1</td>\n",
              "      <td>0</td>\n",
              "      <td>150</td>\n",
              "      <td>0</td>\n",
              "      <td>2.3</td>\n",
              "      <td>0</td>\n",
              "      <td>1</td>\n",
              "      <td>0.0</td>\n",
              "      <td>1.0</td>\n",
              "    </tr>\n",
              "    <tr>\n",
              "      <th>1</th>\n",
              "      <td>37</td>\n",
              "      <td>1</td>\n",
              "      <td>2</td>\n",
              "      <td>130</td>\n",
              "      <td>250</td>\n",
              "      <td>0</td>\n",
              "      <td>1</td>\n",
              "      <td>187</td>\n",
              "      <td>0</td>\n",
              "      <td>3.5</td>\n",
              "      <td>0</td>\n",
              "      <td>1</td>\n",
              "      <td>0.0</td>\n",
              "      <td>2.0</td>\n",
              "    </tr>\n",
              "    <tr>\n",
              "      <th>2</th>\n",
              "      <td>41</td>\n",
              "      <td>0</td>\n",
              "      <td>1</td>\n",
              "      <td>130</td>\n",
              "      <td>204</td>\n",
              "      <td>0</td>\n",
              "      <td>0</td>\n",
              "      <td>172</td>\n",
              "      <td>0</td>\n",
              "      <td>1.4</td>\n",
              "      <td>2</td>\n",
              "      <td>1</td>\n",
              "      <td>0.0</td>\n",
              "      <td>2.0</td>\n",
              "    </tr>\n",
              "    <tr>\n",
              "      <th>3</th>\n",
              "      <td>56</td>\n",
              "      <td>1</td>\n",
              "      <td>1</td>\n",
              "      <td>120</td>\n",
              "      <td>236</td>\n",
              "      <td>0</td>\n",
              "      <td>1</td>\n",
              "      <td>178</td>\n",
              "      <td>0</td>\n",
              "      <td>0.8</td>\n",
              "      <td>2</td>\n",
              "      <td>1</td>\n",
              "      <td>0.0</td>\n",
              "      <td>2.0</td>\n",
              "    </tr>\n",
              "    <tr>\n",
              "      <th>4</th>\n",
              "      <td>57</td>\n",
              "      <td>0</td>\n",
              "      <td>0</td>\n",
              "      <td>120</td>\n",
              "      <td>354</td>\n",
              "      <td>0</td>\n",
              "      <td>1</td>\n",
              "      <td>163</td>\n",
              "      <td>1</td>\n",
              "      <td>0.6</td>\n",
              "      <td>2</td>\n",
              "      <td>1</td>\n",
              "      <td>0.0</td>\n",
              "      <td>2.0</td>\n",
              "    </tr>\n",
              "    <tr>\n",
              "      <th>...</th>\n",
              "      <td>...</td>\n",
              "      <td>...</td>\n",
              "      <td>...</td>\n",
              "      <td>...</td>\n",
              "      <td>...</td>\n",
              "      <td>...</td>\n",
              "      <td>...</td>\n",
              "      <td>...</td>\n",
              "      <td>...</td>\n",
              "      <td>...</td>\n",
              "      <td>...</td>\n",
              "      <td>...</td>\n",
              "      <td>...</td>\n",
              "      <td>...</td>\n",
              "    </tr>\n",
              "    <tr>\n",
              "      <th>1488</th>\n",
              "      <td>45</td>\n",
              "      <td>1</td>\n",
              "      <td>1</td>\n",
              "      <td>110</td>\n",
              "      <td>264</td>\n",
              "      <td>0</td>\n",
              "      <td>0</td>\n",
              "      <td>132</td>\n",
              "      <td>0</td>\n",
              "      <td>1.2</td>\n",
              "      <td>2</td>\n",
              "      <td>1</td>\n",
              "      <td>NaN</td>\n",
              "      <td>NaN</td>\n",
              "    </tr>\n",
              "    <tr>\n",
              "      <th>1489</th>\n",
              "      <td>68</td>\n",
              "      <td>1</td>\n",
              "      <td>4</td>\n",
              "      <td>144</td>\n",
              "      <td>193</td>\n",
              "      <td>1</td>\n",
              "      <td>0</td>\n",
              "      <td>141</td>\n",
              "      <td>0</td>\n",
              "      <td>3.4</td>\n",
              "      <td>2</td>\n",
              "      <td>1</td>\n",
              "      <td>NaN</td>\n",
              "      <td>NaN</td>\n",
              "    </tr>\n",
              "    <tr>\n",
              "      <th>1490</th>\n",
              "      <td>57</td>\n",
              "      <td>1</td>\n",
              "      <td>4</td>\n",
              "      <td>130</td>\n",
              "      <td>131</td>\n",
              "      <td>0</td>\n",
              "      <td>0</td>\n",
              "      <td>115</td>\n",
              "      <td>1</td>\n",
              "      <td>1.2</td>\n",
              "      <td>2</td>\n",
              "      <td>1</td>\n",
              "      <td>NaN</td>\n",
              "      <td>NaN</td>\n",
              "    </tr>\n",
              "    <tr>\n",
              "      <th>1491</th>\n",
              "      <td>57</td>\n",
              "      <td>0</td>\n",
              "      <td>2</td>\n",
              "      <td>130</td>\n",
              "      <td>236</td>\n",
              "      <td>0</td>\n",
              "      <td>2</td>\n",
              "      <td>174</td>\n",
              "      <td>0</td>\n",
              "      <td>0.0</td>\n",
              "      <td>2</td>\n",
              "      <td>1</td>\n",
              "      <td>NaN</td>\n",
              "      <td>NaN</td>\n",
              "    </tr>\n",
              "    <tr>\n",
              "      <th>1492</th>\n",
              "      <td>38</td>\n",
              "      <td>1</td>\n",
              "      <td>3</td>\n",
              "      <td>138</td>\n",
              "      <td>175</td>\n",
              "      <td>0</td>\n",
              "      <td>0</td>\n",
              "      <td>173</td>\n",
              "      <td>0</td>\n",
              "      <td>0.0</td>\n",
              "      <td>1</td>\n",
              "      <td>0</td>\n",
              "      <td>NaN</td>\n",
              "      <td>NaN</td>\n",
              "    </tr>\n",
              "  </tbody>\n",
              "</table>\n",
              "<p>1493 rows × 14 columns</p>\n",
              "</div>"
            ],
            "text/plain": [
              "      AGE  SEX  CP  TRESTBPS  CHOL  ...  OLDPEAK  SLOPE  TARGET   CA  THAL\n",
              "0      63    1   3       145   233  ...      2.3      0       1  0.0   1.0\n",
              "1      37    1   2       130   250  ...      3.5      0       1  0.0   2.0\n",
              "2      41    0   1       130   204  ...      1.4      2       1  0.0   2.0\n",
              "3      56    1   1       120   236  ...      0.8      2       1  0.0   2.0\n",
              "4      57    0   0       120   354  ...      0.6      2       1  0.0   2.0\n",
              "...   ...  ...  ..       ...   ...  ...      ...    ...     ...  ...   ...\n",
              "1488   45    1   1       110   264  ...      1.2      2       1  NaN   NaN\n",
              "1489   68    1   4       144   193  ...      3.4      2       1  NaN   NaN\n",
              "1490   57    1   4       130   131  ...      1.2      2       1  NaN   NaN\n",
              "1491   57    0   2       130   236  ...      0.0      2       1  NaN   NaN\n",
              "1492   38    1   3       138   175  ...      0.0      1       0  NaN   NaN\n",
              "\n",
              "[1493 rows x 14 columns]"
            ]
          },
          "metadata": {
            "tags": []
          },
          "execution_count": 21
        }
      ]
    },
    {
      "cell_type": "code",
      "metadata": {
        "colab": {
          "base_uri": "https://localhost:8080/"
        },
        "id": "jbqms7QXsiNj",
        "outputId": "85ce3627-958a-4171-d5a0-0a6b105388e7"
      },
      "source": [
        "# Fill it with the mean\n",
        "df['CA'].mean()"
      ],
      "execution_count": null,
      "outputs": [
        {
          "output_type": "execute_result",
          "data": {
            "text/plain": [
              "0.7293729372937293"
            ]
          },
          "metadata": {
            "tags": []
          },
          "execution_count": 22
        }
      ]
    },
    {
      "cell_type": "code",
      "metadata": {
        "colab": {
          "base_uri": "https://localhost:8080/"
        },
        "id": "mAXiViLesiNk",
        "outputId": "dfe55567-120e-4f2c-ddda-0c0a0cebba6e"
      },
      "source": [
        "df['THAL'].mean()"
      ],
      "execution_count": null,
      "outputs": [
        {
          "output_type": "execute_result",
          "data": {
            "text/plain": [
              "2.3135313531353137"
            ]
          },
          "metadata": {
            "tags": []
          },
          "execution_count": 23
        }
      ]
    },
    {
      "cell_type": "code",
      "metadata": {
        "id": "wZ2BurYxsiNk"
      },
      "source": [
        "#df['THAL'] = df.THAL.fillna(df['THAL'].mean())\n",
        "#df['CA'] = df.CA.fillna(df['CA'].mean())\n",
        "\n",
        "df.iloc[303:,df.columns.get_loc('CA')] = 1\n",
        "df.iloc[303:,df.columns.get_loc('THAL')] = 2\n"
      ],
      "execution_count": null,
      "outputs": []
    },
    {
      "cell_type": "code",
      "metadata": {
        "colab": {
          "base_uri": "https://localhost:8080/",
          "height": 419
        },
        "id": "pBOKuOW6siNl",
        "outputId": "3a0751e0-7b34-4f7b-c5ef-527fe9cb5142"
      },
      "source": [
        "df.head(800)"
      ],
      "execution_count": null,
      "outputs": [
        {
          "output_type": "execute_result",
          "data": {
            "text/html": [
              "<div>\n",
              "<style scoped>\n",
              "    .dataframe tbody tr th:only-of-type {\n",
              "        vertical-align: middle;\n",
              "    }\n",
              "\n",
              "    .dataframe tbody tr th {\n",
              "        vertical-align: top;\n",
              "    }\n",
              "\n",
              "    .dataframe thead th {\n",
              "        text-align: right;\n",
              "    }\n",
              "</style>\n",
              "<table border=\"1\" class=\"dataframe\">\n",
              "  <thead>\n",
              "    <tr style=\"text-align: right;\">\n",
              "      <th></th>\n",
              "      <th>AGE</th>\n",
              "      <th>SEX</th>\n",
              "      <th>CP</th>\n",
              "      <th>TRESTBPS</th>\n",
              "      <th>CHOL</th>\n",
              "      <th>FBS</th>\n",
              "      <th>RESTECG</th>\n",
              "      <th>THALACH</th>\n",
              "      <th>EXANG</th>\n",
              "      <th>OLDPEAK</th>\n",
              "      <th>SLOPE</th>\n",
              "      <th>TARGET</th>\n",
              "      <th>CA</th>\n",
              "      <th>THAL</th>\n",
              "    </tr>\n",
              "  </thead>\n",
              "  <tbody>\n",
              "    <tr>\n",
              "      <th>0</th>\n",
              "      <td>63</td>\n",
              "      <td>1</td>\n",
              "      <td>3</td>\n",
              "      <td>145</td>\n",
              "      <td>233</td>\n",
              "      <td>1</td>\n",
              "      <td>0</td>\n",
              "      <td>150</td>\n",
              "      <td>0</td>\n",
              "      <td>2.3</td>\n",
              "      <td>0</td>\n",
              "      <td>1</td>\n",
              "      <td>0.0</td>\n",
              "      <td>1.0</td>\n",
              "    </tr>\n",
              "    <tr>\n",
              "      <th>1</th>\n",
              "      <td>37</td>\n",
              "      <td>1</td>\n",
              "      <td>2</td>\n",
              "      <td>130</td>\n",
              "      <td>250</td>\n",
              "      <td>0</td>\n",
              "      <td>1</td>\n",
              "      <td>187</td>\n",
              "      <td>0</td>\n",
              "      <td>3.5</td>\n",
              "      <td>0</td>\n",
              "      <td>1</td>\n",
              "      <td>0.0</td>\n",
              "      <td>2.0</td>\n",
              "    </tr>\n",
              "    <tr>\n",
              "      <th>2</th>\n",
              "      <td>41</td>\n",
              "      <td>0</td>\n",
              "      <td>1</td>\n",
              "      <td>130</td>\n",
              "      <td>204</td>\n",
              "      <td>0</td>\n",
              "      <td>0</td>\n",
              "      <td>172</td>\n",
              "      <td>0</td>\n",
              "      <td>1.4</td>\n",
              "      <td>2</td>\n",
              "      <td>1</td>\n",
              "      <td>0.0</td>\n",
              "      <td>2.0</td>\n",
              "    </tr>\n",
              "    <tr>\n",
              "      <th>3</th>\n",
              "      <td>56</td>\n",
              "      <td>1</td>\n",
              "      <td>1</td>\n",
              "      <td>120</td>\n",
              "      <td>236</td>\n",
              "      <td>0</td>\n",
              "      <td>1</td>\n",
              "      <td>178</td>\n",
              "      <td>0</td>\n",
              "      <td>0.8</td>\n",
              "      <td>2</td>\n",
              "      <td>1</td>\n",
              "      <td>0.0</td>\n",
              "      <td>2.0</td>\n",
              "    </tr>\n",
              "    <tr>\n",
              "      <th>4</th>\n",
              "      <td>57</td>\n",
              "      <td>0</td>\n",
              "      <td>0</td>\n",
              "      <td>120</td>\n",
              "      <td>354</td>\n",
              "      <td>0</td>\n",
              "      <td>1</td>\n",
              "      <td>163</td>\n",
              "      <td>1</td>\n",
              "      <td>0.6</td>\n",
              "      <td>2</td>\n",
              "      <td>1</td>\n",
              "      <td>0.0</td>\n",
              "      <td>2.0</td>\n",
              "    </tr>\n",
              "    <tr>\n",
              "      <th>...</th>\n",
              "      <td>...</td>\n",
              "      <td>...</td>\n",
              "      <td>...</td>\n",
              "      <td>...</td>\n",
              "      <td>...</td>\n",
              "      <td>...</td>\n",
              "      <td>...</td>\n",
              "      <td>...</td>\n",
              "      <td>...</td>\n",
              "      <td>...</td>\n",
              "      <td>...</td>\n",
              "      <td>...</td>\n",
              "      <td>...</td>\n",
              "      <td>...</td>\n",
              "    </tr>\n",
              "    <tr>\n",
              "      <th>795</th>\n",
              "      <td>75</td>\n",
              "      <td>1</td>\n",
              "      <td>4</td>\n",
              "      <td>170</td>\n",
              "      <td>203</td>\n",
              "      <td>1</td>\n",
              "      <td>1</td>\n",
              "      <td>108</td>\n",
              "      <td>0</td>\n",
              "      <td>0.0</td>\n",
              "      <td>2</td>\n",
              "      <td>1</td>\n",
              "      <td>1.0</td>\n",
              "      <td>2.0</td>\n",
              "    </tr>\n",
              "    <tr>\n",
              "      <th>796</th>\n",
              "      <td>49</td>\n",
              "      <td>1</td>\n",
              "      <td>1</td>\n",
              "      <td>130</td>\n",
              "      <td>0</td>\n",
              "      <td>0</td>\n",
              "      <td>1</td>\n",
              "      <td>145</td>\n",
              "      <td>0</td>\n",
              "      <td>3.0</td>\n",
              "      <td>2</td>\n",
              "      <td>1</td>\n",
              "      <td>1.0</td>\n",
              "      <td>2.0</td>\n",
              "    </tr>\n",
              "    <tr>\n",
              "      <th>797</th>\n",
              "      <td>51</td>\n",
              "      <td>1</td>\n",
              "      <td>3</td>\n",
              "      <td>137</td>\n",
              "      <td>339</td>\n",
              "      <td>0</td>\n",
              "      <td>0</td>\n",
              "      <td>127</td>\n",
              "      <td>1</td>\n",
              "      <td>1.7</td>\n",
              "      <td>2</td>\n",
              "      <td>1</td>\n",
              "      <td>1.0</td>\n",
              "      <td>2.0</td>\n",
              "    </tr>\n",
              "    <tr>\n",
              "      <th>798</th>\n",
              "      <td>60</td>\n",
              "      <td>1</td>\n",
              "      <td>4</td>\n",
              "      <td>142</td>\n",
              "      <td>216</td>\n",
              "      <td>0</td>\n",
              "      <td>0</td>\n",
              "      <td>110</td>\n",
              "      <td>1</td>\n",
              "      <td>2.5</td>\n",
              "      <td>2</td>\n",
              "      <td>1</td>\n",
              "      <td>1.0</td>\n",
              "      <td>2.0</td>\n",
              "    </tr>\n",
              "    <tr>\n",
              "      <th>799</th>\n",
              "      <td>64</td>\n",
              "      <td>0</td>\n",
              "      <td>4</td>\n",
              "      <td>142</td>\n",
              "      <td>276</td>\n",
              "      <td>0</td>\n",
              "      <td>0</td>\n",
              "      <td>140</td>\n",
              "      <td>1</td>\n",
              "      <td>1.0</td>\n",
              "      <td>2</td>\n",
              "      <td>1</td>\n",
              "      <td>1.0</td>\n",
              "      <td>2.0</td>\n",
              "    </tr>\n",
              "  </tbody>\n",
              "</table>\n",
              "<p>800 rows × 14 columns</p>\n",
              "</div>"
            ],
            "text/plain": [
              "     AGE  SEX  CP  TRESTBPS  CHOL  ...  OLDPEAK  SLOPE  TARGET   CA  THAL\n",
              "0     63    1   3       145   233  ...      2.3      0       1  0.0   1.0\n",
              "1     37    1   2       130   250  ...      3.5      0       1  0.0   2.0\n",
              "2     41    0   1       130   204  ...      1.4      2       1  0.0   2.0\n",
              "3     56    1   1       120   236  ...      0.8      2       1  0.0   2.0\n",
              "4     57    0   0       120   354  ...      0.6      2       1  0.0   2.0\n",
              "..   ...  ...  ..       ...   ...  ...      ...    ...     ...  ...   ...\n",
              "795   75    1   4       170   203  ...      0.0      2       1  1.0   2.0\n",
              "796   49    1   1       130     0  ...      3.0      2       1  1.0   2.0\n",
              "797   51    1   3       137   339  ...      1.7      2       1  1.0   2.0\n",
              "798   60    1   4       142   216  ...      2.5      2       1  1.0   2.0\n",
              "799   64    0   4       142   276  ...      1.0      2       1  1.0   2.0\n",
              "\n",
              "[800 rows x 14 columns]"
            ]
          },
          "metadata": {
            "tags": []
          },
          "execution_count": 25
        }
      ]
    },
    {
      "cell_type": "markdown",
      "metadata": {
        "id": "ac3GFHEzEAqH"
      },
      "source": [
        "# VISUALISATION"
      ]
    },
    {
      "cell_type": "markdown",
      "metadata": {
        "id": "jzf32gFLE91m"
      },
      "source": [
        "## disease Distribution:"
      ]
    },
    {
      "cell_type": "code",
      "metadata": {
        "colab": {
          "base_uri": "https://localhost:8080/",
          "height": 538
        },
        "id": "Y7Rj67UFE-Xu",
        "outputId": "78843ebe-8c8b-4a9b-c248-06d1e7a1940e"
      },
      "source": [
        "plt.rcParams['figure.figsize'] = (15, 7)\r\n",
        "plt.style.use('seaborn-talk')\r\n",
        "sns.countplot(df['TARGET'], palette = 'pastel')\r\n",
        "plt.title('Distribution des maladies', fontsize = 20)\r\n",
        "plt.show()"
      ],
      "execution_count": null,
      "outputs": [
        {
          "output_type": "stream",
          "text": [
            "/usr/local/lib/python3.6/dist-packages/seaborn/_decorators.py:43: FutureWarning: Pass the following variable as a keyword arg: x. From version 0.12, the only valid positional argument will be `data`, and passing other arguments without an explicit keyword will result in an error or misinterpretation.\n",
            "  FutureWarning\n"
          ],
          "name": "stderr"
        },
        {
          "output_type": "display_data",
          "data": {
            "image/png": "[encoded data removed]",
            "text/plain": [
              "<Figure size 748.8x514.8 with 1 Axes>"
            ]
          },
          "metadata": {
            "tags": [],
            "needs_background": "light"
          }
        }
      ]
    },
    {
      "cell_type": "markdown",
      "metadata": {
        "id": "Tn3OxCrUpot9"
      },
      "source": [
        "\r\n",
        "\r\n",
        "---\r\n",
        "We note that our database is fairly balanced, with a superiority of almost 100 cases that have  diseases.\r\n",
        "\r\n",
        "---\r\n"
      ]
    },
    {
      "cell_type": "markdown",
      "metadata": {
        "id": "rBxOvSP9Ebco"
      },
      "source": [
        "## SEX Distribution BY disease :"
      ]
    },
    {
      "cell_type": "code",
      "metadata": {
        "colab": {
          "base_uri": "https://localhost:8080/",
          "height": 541
        },
        "id": "r1-fydovEZu9",
        "outputId": "cd20c46d-4a1e-490c-8b76-8abab71d5f27"
      },
      "source": [
        "size = df['SEX'].value_counts()\r\n",
        "colors = ['lightblue', 'lightgreen']\r\n",
        "labels = \"Homme\", \"Femme\"\r\n",
        "explode = [0, 0.01]\r\n",
        "\r\n",
        "my_circle = plt.Circle((0, 0), 0.7, color = 'white')\r\n",
        "\r\n",
        "plt.rcParams['figure.figsize'] = (9, 9)\r\n",
        "plt.pie(size, colors = colors, labels = labels, shadow = True, explode = explode, autopct = '%.2f%%')\r\n",
        "plt.title('Distribution de sexe', fontsize = 20)\r\n",
        "p = plt.gcf()\r\n",
        "p.gca().add_artist(my_circle)\r\n",
        "plt.legend()\r\n",
        "plt.show()"
      ],
      "execution_count": null,
      "outputs": [
        {
          "output_type": "display_data",
          "data": {
            "image/png": "[encoded data removed]",
            "text/plain": [
              "<Figure size 648x648 with 1 Axes>"
            ]
          },
          "metadata": {
            "tags": []
          }
        }
      ]
    },
    {
      "cell_type": "markdown",
      "metadata": {
        "id": "FTt-CcwPpv-M"
      },
      "source": [
        "---\r\n",
        "\r\n",
        "This pie chart shows that there is a big difference in the SEX. According to our study **74.75%** of patients are men while **25.25%** are women, which shows that more men have partiticipted to cardiovascular disease tests. \r\n",
        "\r\n",
        "---"
      ]
    },
    {
      "cell_type": "markdown",
      "metadata": {
        "id": "-pWnLTsfoc8v"
      },
      "source": [
        "## Relationship between sex and disease"
      ]
    },
    {
      "cell_type": "code",
      "metadata": {
        "colab": {
          "base_uri": "https://localhost:8080/"
        },
        "id": "CIGZ7oC-E383",
        "outputId": "0bae6910-0af6-47a9-ae9b-8547123f703a"
      },
      "source": [
        "size = df.query(\"TARGET==1\").groupby([\"SEX\"])[\"TARGET\"].value_counts()\r\n",
        "size "
      ],
      "execution_count": null,
      "outputs": [
        {
          "output_type": "execute_result",
          "data": {
            "text/plain": [
              "SEX  TARGET\n",
              "0    1         142\n",
              "1    1         652\n",
              "Name: TARGET, dtype: int64"
            ]
          },
          "metadata": {
            "tags": []
          },
          "execution_count": 28
        }
      ]
    },
    {
      "cell_type": "code",
      "metadata": {
        "colab": {
          "base_uri": "https://localhost:8080/",
          "height": 541
        },
        "id": "1RIQy3dQo1eD",
        "outputId": "bbf24a71-1059-42c8-be1e-e94e556e9cf0"
      },
      "source": [
        "colors = ['lightblue', 'lightgreen']\r\n",
        "labels = \"Femme\", \"Homme\"\r\n",
        "explode = [0, 0.01]\r\n",
        "\r\n",
        "my_circle = plt.Circle((0, 0), 0.7, color = 'white')\r\n",
        "\r\n",
        "plt.rcParams['figure.figsize'] = (9, 9)\r\n",
        "plt.pie(size, colors = colors, labels = labels, shadow = True, explode = explode, autopct = '%.2f%%')\r\n",
        "plt.title('Relation entre le sexe et les maladies', fontsize = 20)\r\n",
        "p = plt.gcf()\r\n",
        "p.gca().add_artist(my_circle)\r\n",
        "plt.legend()\r\n",
        "plt.show()"
      ],
      "execution_count": null,
      "outputs": [
        {
          "output_type": "display_data",
          "data": {
            "image/png": "[encoded data removed]",
            "text/plain": [
              "<Figure size 648x648 with 1 Axes>"
            ]
          },
          "metadata": {
            "tags": []
          }
        }
      ]
    },
    {
      "cell_type": "markdown",
      "metadata": {
        "id": "8ROmP2tMqd2j"
      },
      "source": [
        "\r\n",
        "\r\n",
        "---\r\n",
        "This pie chart shows that men are more than ***4*** times more likely to suffer from cardiovascular disease.\r\n",
        "\r\n",
        "---\r\n"
      ]
    },
    {
      "cell_type": "markdown",
      "metadata": {
        "id": "bGC3aZ9fpO7k"
      },
      "source": [
        "## AGE DISTRIBUTION OF THE DISEASE"
      ]
    },
    {
      "cell_type": "code",
      "metadata": {
        "colab": {
          "base_uri": "https://localhost:8080/",
          "height": 401
        },
        "id": "dsZp_V09pP5z",
        "outputId": "241059ce-da65-4d48-f4b8-b84e6e91d86a"
      },
      "source": [
        "plt.style.use('fivethirtyeight')\r\n",
        "plt.rcParams['figure.figsize'] = (15, 5)\r\n",
        "sns.distplot(df['AGE'], color = 'cyan')\r\n",
        "plt.title(\"Distribution d'age \", fontsize = 20)\r\n",
        "plt.show()"
      ],
      "execution_count": null,
      "outputs": [
        {
          "output_type": "stream",
          "text": [
            "/usr/local/lib/python3.6/dist-packages/seaborn/distributions.py:2557: FutureWarning: `distplot` is a deprecated function and will be removed in a future version. Please adapt your code to use either `displot` (a figure-level function with similar flexibility) or `histplot` (an axes-level function for histograms).\n",
            "  warnings.warn(msg, FutureWarning)\n"
          ],
          "name": "stderr"
        },
        {
          "output_type": "display_data",
          "data": {
            "image/png": "[encoded data removed]",
            "text/plain": [
              "<Figure size 1080x360 with 1 Axes>"
            ]
          },
          "metadata": {
            "tags": []
          }
        }
      ]
    },
    {
      "cell_type": "markdown",
      "metadata": {
        "id": "4pJxdReNq2-d"
      },
      "source": [
        "The distribution chart above shows that the highest number of people with cardiovascular disease is in the 50-65 age group. Patients in the*** 20-30*** age group are much less likely to suffer.\r\n",
        "The number of patients in the ***65-80*** age group has a very small population, so the distribution is also smaller."
      ]
    },
    {
      "cell_type": "markdown",
      "metadata": {
        "id": "TEGSJdy_sXS4"
      },
      "source": [
        "## Relationship between electrical acitivity of the heart and diseases:"
      ]
    },
    {
      "cell_type": "code",
      "metadata": {
        "colab": {
          "base_uri": "https://localhost:8080/",
          "height": 617
        },
        "id": "m_yQgmxHsjWU",
        "outputId": "e6cb7048-4c35-45a9-ad12-8000996d8146"
      },
      "source": [
        "plt.rcParams['figure.figsize'] = (12, 9)\r\n",
        "dat = pd.crosstab(df['TARGET'], df['RESTECG']) \r\n",
        "dat.div(dat.sum(1).astype(float), axis = 0).plot(kind = 'bar', \r\n",
        "                                                 stacked = False, \r\n",
        "                                                 color = plt.cm.rainbow(np.linspace(0, 1, 4)))\r\n",
        "plt.title(\"Relation entre l'acitivité electrique du coeur et les maladies\", fontsize = 20, fontweight = 30)\r\n",
        "plt.show()"
      ],
      "execution_count": null,
      "outputs": [
        {
          "output_type": "display_data",
          "data": {
            "image/png": "[encoded data removed]",
            "text/plain": [
              "<Figure size 864x648 with 1 Axes>"
            ]
          },
          "metadata": {
            "tags": []
          }
        }
      ]
    },
    {
      "cell_type": "markdown",
      "metadata": {
        "id": "kYw4SK8ys7g3"
      },
      "source": [
        "\r\n",
        "\r\n",
        "---\r\n",
        "\r\n",
        "\r\n",
        "This diagram shows that patients with electrical acitivity of the heart representing ***left ventricular hypertrophy*** are ***more likely to have cardiovascular disease***, while patients with normal activity are unlikely to have problems.\r\n",
        "\r\n",
        "\r\n",
        "---\r\n",
        "\r\n"
      ]
    },
    {
      "cell_type": "markdown",
      "metadata": {
        "id": "f-59wnKgtTTt"
      },
      "source": [
        "## Correlation between attributes:"
      ]
    },
    {
      "cell_type": "code",
      "metadata": {
        "colab": {
          "base_uri": "https://localhost:8080/",
          "height": 696
        },
        "id": "viCpCp9ttTuC",
        "outputId": "0110ec08-cd30-4569-edee-5505167f1af9"
      },
      "source": [
        "plt.rcParams['figure.figsize'] = (20, 15)\r\n",
        "plt.style.use('ggplot')\r\n",
        "\r\n",
        "sns.heatmap(df.corr(), annot = True, cmap = 'OrRd')\r\n",
        "plt.title('Matrice de Corrélation', fontsize = 20)\r\n",
        "plt.show()"
      ],
      "execution_count": null,
      "outputs": [
        {
          "output_type": "display_data",
          "data": {
            "image/png": "[encoded data removed]",
            "text/plain": [
              "<Figure size 1440x1080 with 2 Axes>"
            ]
          },
          "metadata": {
            "tags": []
          }
        }
      ]
    },
    {
      "cell_type": "markdown",
      "metadata": {
        "id": "ciff6zUutj7G"
      },
      "source": [
        "\r\n",
        "\r\n",
        "---\r\n",
        "This heat map shows that the attributes are much less correlated with each other, so we move on to pca.\r\n",
        "\r\n",
        "---\r\n",
        "\r\n",
        "\r\n",
        "\r\n"
      ]
    },
    {
      "cell_type": "markdown",
      "metadata": {
        "id": "07sVlVgUAp7B"
      },
      "source": [
        "# **ACP** : l'Analyse à Composantes Principales"
      ]
    },
    {
      "cell_type": "code",
      "metadata": {
        "id": "P3g1RpwA4OvH"
      },
      "source": [
        "# Import des librairies\r\n",
        "import os \r\n",
        "import matplotlib.pyplot as plt \r\n",
        "import matplotlib.image as mpimg\r\n",
        "from sklearn.preprocessing import StandardScaler\r\n",
        "from sklearn.decomposition import PCA\r\n",
        "import random"
      ],
      "execution_count": null,
      "outputs": []
    },
    {
      "cell_type": "markdown",
      "metadata": {
        "id": "JN2Iq8xVAkNc"
      },
      "source": [
        "**Normalisation des données**"
      ]
    },
    {
      "cell_type": "code",
      "metadata": {
        "colab": {
          "base_uri": "https://localhost:8080/"
        },
        "id": "07a1J75i6dIv",
        "outputId": "de1e25e2-8769-4ddb-db6b-55594bcc6f46"
      },
      "source": [
        "features = ['AGE','TRESTBPS','CHOL','THALACH','OLDPEAK']\r\n",
        "\r\n",
        "x = df[features]\r\n",
        "x = StandardScaler().fit_transform(x)\r\n",
        "n_entries=1493 \r\n",
        "\r\n",
        "print(\"Les moyennes :\",np.mean(x,axis=0))\r\n",
        "print(\"\\nLes écarts-types :\",np.std(x,axis=0,ddof=0)) # les écarts type devraient être égals à 1\r\n",
        "print(\"\\nLa matrice de corrélation :\\n\",(1/n_entries)*np.matmul(np.transpose(x),x))"
      ],
      "execution_count": null,
      "outputs": [
        {
          "output_type": "stream",
          "text": [
            "Les moyennes : [-3.80732879e-17  3.99769523e-16  1.33256508e-16  3.90251201e-16\n",
            "  5.71099319e-17]\n",
            "\n",
            "Les écarts-types : [1. 1. 1. 1. 1.]\n",
            "\n",
            "La matrice de corrélation :\n",
            " [[ 1.          0.26136544 -0.01253838 -0.36469839  0.23847828]\n",
            " [ 0.26136544  1.          0.0967785  -0.09225643  0.17876992]\n",
            " [-0.01253838  0.0967785   1.          0.22801682  0.06117356]\n",
            " [-0.36469839 -0.09225643  0.22801682  1.         -0.20502989]\n",
            " [ 0.23847828  0.17876992  0.06117356 -0.20502989  1.        ]]\n"
          ],
          "name": "stdout"
        }
      ]
    },
    {
      "cell_type": "markdown",
      "metadata": {
        "id": "9CXJfv7PA55g"
      },
      "source": [
        "La fonction **fit_tranform**() renvoie en sortie les coordonnées factorielles que nous collections dans la variable principal_comps"
      ]
    },
    {
      "cell_type": "code",
      "metadata": {
        "colab": {
          "base_uri": "https://localhost:8080/"
        },
        "id": "8-tyVL1b91Qs",
        "outputId": "c58c9fde-40f5-4769-810b-24ccaea8d091"
      },
      "source": [
        "n_components=len(features)\r\n",
        "pca = PCA()\r\n",
        "principal_comps = pca.fit_transform(x)\r\n",
        "print(\"Nombre de composantes principales : \",pca.n_components_)\r\n",
        "print(\"\\nValeurs propres :\",pca.explained_variance_)\r\n",
        "print(\"\\nProportion des variances (pourcentage) : \",pca.explained_variance_ratio_*100)\r\n",
        "corvar=pca.get_covariance()\r\n",
        "print(\"\\nMatrice des covariances :\\n\",corvar)"
      ],
      "execution_count": null,
      "outputs": [
        {
          "output_type": "stream",
          "text": [
            "Nombre de composantes principales :  5\n",
            "\n",
            "Valeurs propres : [1.69195277 1.19519351 0.82556454 0.72920901 0.56143137]\n",
            "\n",
            "Proportion des variances (pourcentage) :  [33.8163903  23.88785951 16.5002317  14.57441185 11.22110662]\n",
            "\n",
            "Matrice des covariances :\n",
            " [[ 1.00067024  0.26154062 -0.01254679 -0.36494283  0.23863812]\n",
            " [ 0.26154062  1.00067024  0.09684336 -0.09231827  0.17888974]\n",
            " [-0.01254679  0.09684336  1.00067024  0.22816965  0.06121456]\n",
            " [-0.36494283 -0.09231827  0.22816965  1.00067024 -0.20516731]\n",
            " [ 0.23863812  0.17888974  0.06121456 -0.20516731  1.00067024]]\n"
          ],
          "name": "stdout"
        }
      ]
    },
    {
      "cell_type": "markdown",
      "metadata": {
        "id": "wZB9IYpkBMmS"
      },
      "source": [
        "On peut tracer la variance cumulée"
      ]
    },
    {
      "cell_type": "code",
      "metadata": {
        "colab": {
          "base_uri": "https://localhost:8080/",
          "height": 666
        },
        "id": "EDzCeqBj-NL5",
        "outputId": "1df62375-f3e3-4b3a-c12a-33bce451c1d6"
      },
      "source": [
        "plt.plot(np.arange(1,n_components+1),np.cumsum(pca.explained_variance_ratio_))\r\n",
        "plt.title(\"Variance cumulée par rapport au nombre de composantes\")\r\n",
        "plt.ylabel(\"Variance cumulée\")\r\n",
        "plt.xlabel(\"Nombre de composantes\")\r\n",
        "plt.show()"
      ],
      "execution_count": null,
      "outputs": [
        {
          "output_type": "display_data",
          "data": {
            "image/png": "[encoded data removed]",
            "text/plain": [
              "<Figure size 1440x1080 with 1 Axes>"
            ]
          },
          "metadata": {
            "tags": []
          }
        }
      ]
    },
    {
      "cell_type": "markdown",
      "metadata": {
        "id": "sGnB3SFbBdam"
      },
      "source": [
        "On n'utilisera plus une valeur si la proportion de celle-ci est inférieure à 1/n_components (à savoir ici 14%) c'est 1/7. "
      ]
    },
    {
      "cell_type": "code",
      "metadata": {
        "colab": {
          "base_uri": "https://localhost:8080/"
        },
        "id": "1qSpzs6E_5BI",
        "outputId": "1e6f15b0-55d2-4467-b6c2-02670b42c6bc"
      },
      "source": [
        "n_components=3\r\n",
        "pca = PCA(n_components)\r\n",
        "principal_comps = pca.fit_transform(x)\r\n",
        "print(\"Nombre de composantes principales : \",pca.n_components_)\r\n",
        "print(\"\\nValeurs propres :\",pca.explained_variance_)\r\n",
        "print(\"\\nProportion des variances (pourcentage) : \",pca.explained_variance_ratio_*100)"
      ],
      "execution_count": null,
      "outputs": [
        {
          "output_type": "stream",
          "text": [
            "Nombre de composantes principales :  3\n",
            "\n",
            "Valeurs propres : [1.69195277 1.19519351 0.82556454]\n",
            "\n",
            "Proportion des variances (pourcentage) :  [33.8163903  23.88785951 16.5002317 ]\n"
          ],
          "name": "stdout"
        }
      ]
    },
    {
      "cell_type": "markdown",
      "metadata": {
        "id": "-chhZnCbAOxY"
      },
      "source": [
        "\r\n",
        "**Affichage des composantes principales/vecteurs propres**"
      ]
    },
    {
      "cell_type": "code",
      "metadata": {
        "colab": {
          "base_uri": "https://localhost:8080/"
        },
        "id": "Jtn30ACPAEKr",
        "outputId": "f7a7bf95-8141-4910-d22c-173829ca9592"
      },
      "source": [
        "# Calcul des vecteurs propres\r\n",
        "# On obtient la matrice de changement de base\r\n",
        "print(\"Matrice de changement de base :\\n\",pca.components_)\r\n",
        "print(\"\\nComposantes principales :\\n\",principal_comps)"
      ],
      "execution_count": null,
      "outputs": [
        {
          "output_type": "stream",
          "text": [
            "Matrice de changement de base :\n",
            " [[ 0.58864283  0.39866057 -0.08895343 -0.5285015   0.45534912]\n",
            " [-0.02421417 -0.42742847 -0.76985934 -0.41535912 -0.22696249]\n",
            " [-0.15653883 -0.64561917  0.1917263  -0.07450696  0.71858279]]\n",
            "\n",
            "Composantes principales :\n",
            " [[ 1.23528765 -0.8673246   0.27560086]\n",
            " [-1.03184004 -1.43992252  1.95346271]\n",
            " [-1.28979094 -0.39725771  0.46787043]\n",
            " ...\n",
            " [ 0.899158    1.13195912  0.08797001]\n",
            " [-0.9273764  -0.44393759 -0.65522368]\n",
            " [-1.87637212 -0.0694388  -0.74005143]]\n"
          ],
          "name": "stdout"
        }
      ]
    },
    {
      "cell_type": "markdown",
      "metadata": {
        "id": "s_ixNzMUErNb"
      },
      "source": [
        "\r\n",
        "**Représentation de l'age des individus**\r\n",
        "\r\n",
        "Pour visualiser et vérifier les résultats, on affiche l'age des individus dans un dataframe et dans un plot à l'emplacement correspondant à l'ACP. l'age des individus proches auront à chaque fois leurs composantes proches.\r\n"
      ]
    },
    {
      "cell_type": "code",
      "metadata": {
        "colab": {
          "base_uri": "https://localhost:8080/",
          "height": 1000
        },
        "id": "JpMjrB7fBzrB",
        "outputId": "b0ea84f5-a349-4545-923b-d0b7cd25fc3b"
      },
      "source": [
        "# Positionnement de df dans le premier plan\r\n",
        "fig, axes = plt.subplots()\r\n",
        "tmp_df=pd.DataFrame(columns=list(df))\r\n",
        "# Placement des étiquettes des observations\r\n",
        "for i in range(80):\r\n",
        "    r=random.randint(0,n_entries)\r\n",
        "    tmp_df.loc[i]=df.iloc[r]\r\n",
        "    plt.annotate(tmp_df.loc[i].AGE,(principal_comps[r,0],principal_comps[r,1]))\r\n",
        "    \r\n",
        "# Ajouter les axes\r\n",
        "plt.plot([-6,6],[0,0],color='silver',linestyle='-',linewidth=1)\r\n",
        "plt.plot([0,0],[-6,6],color='silver',linestyle='-',linewidth=1)\r\n",
        "plt.margins(x=-.25, y=-0.465)\r\n",
        "# Affichage\r\n",
        "plt.show()\r\n",
        "tmp_df"
      ],
      "execution_count": null,
      "outputs": [
        {
          "output_type": "display_data",
          "data": {
            "image/png": "[encoded data removed]",
            "text/plain": [
              "<Figure size 1440x1080 with 1 Axes>"
            ]
          },
          "metadata": {
            "tags": []
          }
        },
        {
          "output_type": "execute_result",
          "data": {
            "text/html": [
              "<div>\n",
              "<style scoped>\n",
              "    .dataframe tbody tr th:only-of-type {\n",
              "        vertical-align: middle;\n",
              "    }\n",
              "\n",
              "    .dataframe tbody tr th {\n",
              "        vertical-align: top;\n",
              "    }\n",
              "\n",
              "    .dataframe thead th {\n",
              "        text-align: right;\n",
              "    }\n",
              "</style>\n",
              "<table border=\"1\" class=\"dataframe\">\n",
              "  <thead>\n",
              "    <tr style=\"text-align: right;\">\n",
              "      <th></th>\n",
              "      <th>AGE</th>\n",
              "      <th>SEX</th>\n",
              "      <th>CP</th>\n",
              "      <th>TRESTBPS</th>\n",
              "      <th>CHOL</th>\n",
              "      <th>FBS</th>\n",
              "      <th>RESTECG</th>\n",
              "      <th>THALACH</th>\n",
              "      <th>EXANG</th>\n",
              "      <th>OLDPEAK</th>\n",
              "      <th>SLOPE</th>\n",
              "      <th>TARGET</th>\n",
              "      <th>CA</th>\n",
              "      <th>THAL</th>\n",
              "    </tr>\n",
              "  </thead>\n",
              "  <tbody>\n",
              "    <tr>\n",
              "      <th>0</th>\n",
              "      <td>61.0</td>\n",
              "      <td>1.0</td>\n",
              "      <td>0.0</td>\n",
              "      <td>148.0</td>\n",
              "      <td>203.0</td>\n",
              "      <td>0.0</td>\n",
              "      <td>1.0</td>\n",
              "      <td>161.0</td>\n",
              "      <td>0.0</td>\n",
              "      <td>0.0</td>\n",
              "      <td>2.0</td>\n",
              "      <td>0.0</td>\n",
              "      <td>1.0</td>\n",
              "      <td>3.0</td>\n",
              "    </tr>\n",
              "    <tr>\n",
              "      <th>1</th>\n",
              "      <td>57.0</td>\n",
              "      <td>1.0</td>\n",
              "      <td>1.0</td>\n",
              "      <td>124.0</td>\n",
              "      <td>261.0</td>\n",
              "      <td>0.0</td>\n",
              "      <td>1.0</td>\n",
              "      <td>141.0</td>\n",
              "      <td>0.0</td>\n",
              "      <td>0.3</td>\n",
              "      <td>2.0</td>\n",
              "      <td>0.0</td>\n",
              "      <td>0.0</td>\n",
              "      <td>3.0</td>\n",
              "    </tr>\n",
              "    <tr>\n",
              "      <th>2</th>\n",
              "      <td>48.0</td>\n",
              "      <td>1.0</td>\n",
              "      <td>3.0</td>\n",
              "      <td>102.0</td>\n",
              "      <td>0.0</td>\n",
              "      <td>1.0</td>\n",
              "      <td>1.0</td>\n",
              "      <td>110.0</td>\n",
              "      <td>1.0</td>\n",
              "      <td>1.0</td>\n",
              "      <td>3.0</td>\n",
              "      <td>1.0</td>\n",
              "      <td>1.0</td>\n",
              "      <td>2.0</td>\n",
              "    </tr>\n",
              "    <tr>\n",
              "      <th>3</th>\n",
              "      <td>58.0</td>\n",
              "      <td>1.0</td>\n",
              "      <td>1.0</td>\n",
              "      <td>125.0</td>\n",
              "      <td>220.0</td>\n",
              "      <td>0.0</td>\n",
              "      <td>1.0</td>\n",
              "      <td>144.0</td>\n",
              "      <td>0.0</td>\n",
              "      <td>0.4</td>\n",
              "      <td>1.0</td>\n",
              "      <td>1.0</td>\n",
              "      <td>4.0</td>\n",
              "      <td>3.0</td>\n",
              "    </tr>\n",
              "    <tr>\n",
              "      <th>4</th>\n",
              "      <td>57.0</td>\n",
              "      <td>1.0</td>\n",
              "      <td>0.0</td>\n",
              "      <td>140.0</td>\n",
              "      <td>192.0</td>\n",
              "      <td>0.0</td>\n",
              "      <td>1.0</td>\n",
              "      <td>148.0</td>\n",
              "      <td>0.0</td>\n",
              "      <td>0.4</td>\n",
              "      <td>1.0</td>\n",
              "      <td>1.0</td>\n",
              "      <td>0.0</td>\n",
              "      <td>1.0</td>\n",
              "    </tr>\n",
              "    <tr>\n",
              "      <th>...</th>\n",
              "      <td>...</td>\n",
              "      <td>...</td>\n",
              "      <td>...</td>\n",
              "      <td>...</td>\n",
              "      <td>...</td>\n",
              "      <td>...</td>\n",
              "      <td>...</td>\n",
              "      <td>...</td>\n",
              "      <td>...</td>\n",
              "      <td>...</td>\n",
              "      <td>...</td>\n",
              "      <td>...</td>\n",
              "      <td>...</td>\n",
              "      <td>...</td>\n",
              "    </tr>\n",
              "    <tr>\n",
              "      <th>75</th>\n",
              "      <td>41.0</td>\n",
              "      <td>1.0</td>\n",
              "      <td>2.0</td>\n",
              "      <td>120.0</td>\n",
              "      <td>295.0</td>\n",
              "      <td>0.0</td>\n",
              "      <td>0.0</td>\n",
              "      <td>170.0</td>\n",
              "      <td>0.0</td>\n",
              "      <td>0.0</td>\n",
              "      <td>1.0</td>\n",
              "      <td>0.0</td>\n",
              "      <td>1.0</td>\n",
              "      <td>2.0</td>\n",
              "    </tr>\n",
              "    <tr>\n",
              "      <th>76</th>\n",
              "      <td>35.0</td>\n",
              "      <td>0.0</td>\n",
              "      <td>1.0</td>\n",
              "      <td>120.0</td>\n",
              "      <td>160.0</td>\n",
              "      <td>0.0</td>\n",
              "      <td>1.0</td>\n",
              "      <td>185.0</td>\n",
              "      <td>0.0</td>\n",
              "      <td>0.0</td>\n",
              "      <td>1.0</td>\n",
              "      <td>0.0</td>\n",
              "      <td>1.0</td>\n",
              "      <td>2.0</td>\n",
              "    </tr>\n",
              "    <tr>\n",
              "      <th>77</th>\n",
              "      <td>58.0</td>\n",
              "      <td>1.0</td>\n",
              "      <td>3.0</td>\n",
              "      <td>105.0</td>\n",
              "      <td>240.0</td>\n",
              "      <td>0.0</td>\n",
              "      <td>2.0</td>\n",
              "      <td>154.0</td>\n",
              "      <td>1.0</td>\n",
              "      <td>0.6</td>\n",
              "      <td>2.0</td>\n",
              "      <td>0.0</td>\n",
              "      <td>1.0</td>\n",
              "      <td>2.0</td>\n",
              "    </tr>\n",
              "    <tr>\n",
              "      <th>78</th>\n",
              "      <td>41.0</td>\n",
              "      <td>1.0</td>\n",
              "      <td>0.0</td>\n",
              "      <td>110.0</td>\n",
              "      <td>172.0</td>\n",
              "      <td>0.0</td>\n",
              "      <td>0.0</td>\n",
              "      <td>158.0</td>\n",
              "      <td>0.0</td>\n",
              "      <td>0.0</td>\n",
              "      <td>2.0</td>\n",
              "      <td>0.0</td>\n",
              "      <td>0.0</td>\n",
              "      <td>3.0</td>\n",
              "    </tr>\n",
              "    <tr>\n",
              "      <th>79</th>\n",
              "      <td>48.0</td>\n",
              "      <td>1.0</td>\n",
              "      <td>4.0</td>\n",
              "      <td>130.0</td>\n",
              "      <td>256.0</td>\n",
              "      <td>1.0</td>\n",
              "      <td>2.0</td>\n",
              "      <td>150.0</td>\n",
              "      <td>1.0</td>\n",
              "      <td>0.0</td>\n",
              "      <td>1.0</td>\n",
              "      <td>1.0</td>\n",
              "      <td>1.0</td>\n",
              "      <td>2.0</td>\n",
              "    </tr>\n",
              "  </tbody>\n",
              "</table>\n",
              "<p>80 rows × 14 columns</p>\n",
              "</div>"
            ],
            "text/plain": [
              "     AGE  SEX   CP  TRESTBPS   CHOL  ...  OLDPEAK  SLOPE  TARGET   CA  THAL\n",
              "0   61.0  1.0  0.0     148.0  203.0  ...      0.0    2.0     0.0  1.0   3.0\n",
              "1   57.0  1.0  1.0     124.0  261.0  ...      0.3    2.0     0.0  0.0   3.0\n",
              "2   48.0  1.0  3.0     102.0    0.0  ...      1.0    3.0     1.0  1.0   2.0\n",
              "3   58.0  1.0  1.0     125.0  220.0  ...      0.4    1.0     1.0  4.0   3.0\n",
              "4   57.0  1.0  0.0     140.0  192.0  ...      0.4    1.0     1.0  0.0   1.0\n",
              "..   ...  ...  ...       ...    ...  ...      ...    ...     ...  ...   ...\n",
              "75  41.0  1.0  2.0     120.0  295.0  ...      0.0    1.0     0.0  1.0   2.0\n",
              "76  35.0  0.0  1.0     120.0  160.0  ...      0.0    1.0     0.0  1.0   2.0\n",
              "77  58.0  1.0  3.0     105.0  240.0  ...      0.6    2.0     0.0  1.0   2.0\n",
              "78  41.0  1.0  0.0     110.0  172.0  ...      0.0    2.0     0.0  0.0   3.0\n",
              "79  48.0  1.0  4.0     130.0  256.0  ...      0.0    1.0     1.0  1.0   2.0\n",
              "\n",
              "[80 rows x 14 columns]"
            ]
          },
          "metadata": {
            "tags": []
          },
          "execution_count": 39
        }
      ]
    },
    {
      "cell_type": "markdown",
      "metadata": {
        "id": "Q0R1bn2LGGJZ"
      },
      "source": [
        "\r\n",
        "**Qualité de représentation**\r\n",
        "\r\n",
        "scikit ne dispose pas d'outil pour afficher directement le cos carré. Nous devons le faire à la main.\r\n"
      ]
    },
    {
      "cell_type": "code",
      "metadata": {
        "colab": {
          "base_uri": "https://localhost:8080/"
        },
        "id": "FU6waU9mFKvA",
        "outputId": "d8aec4bd-f9e6-4157-949c-4cddaa3f89c9"
      },
      "source": [
        "# Contribution de l'age des individus dans l'inertie totale\r\n",
        "dist = np.sum(x**2,axis=1)\r\n",
        "print(\"Contribution de l'age des individus dans l'inertie totale :\\n\",dist)\r\n",
        "# Qualité de la représentation des results\r\n",
        "cos2 = principal_comps**2\r\n",
        "for i in range(n_components):\r\n",
        "    cos2[:,i] = cos2[:,i]/dist\r\n",
        "print(\"\\nQualité de la représentation (pourcentage) :\\n\",cos2*100)"
      ],
      "execution_count": null,
      "outputs": [
        {
          "output_type": "stream",
          "text": [
            "Contribution de l'age des individus dans l'inertie totale :\n",
            " [ 3.11553368 11.9775789   3.54116515 ...  2.13629209  2.52652371\n",
            "  5.47785331]\n",
            "\n",
            "Qualité de la représentation (pourcentage) :\n",
            " [[48.97830452 24.14520385  2.43797184]\n",
            " [ 8.88905737 17.31048384 31.85966543]\n",
            " [46.97777744  4.45654707  6.18165852]\n",
            " ...\n",
            " [37.84525103 59.97922565  0.36225018]\n",
            " [34.03993367  7.80046462 16.99244199]\n",
            " [64.27284825  0.08802256  9.99800637]]\n"
          ],
          "name": "stdout"
        }
      ]
    },
    {
      "cell_type": "markdown",
      "metadata": {
        "id": "-vNq_2r9GfTW"
      },
      "source": [
        "\r\n",
        "**Contributions aux axes**"
      ]
    },
    {
      "cell_type": "code",
      "metadata": {
        "colab": {
          "base_uri": "https://localhost:8080/"
        },
        "id": "jxXHOQxRGSCX",
        "outputId": "1e7841e8-331a-4e7f-f2c1-c159b2d56670"
      },
      "source": [
        "# Contributions aux axes\r\n",
        "ctr = principal_comps**2\r\n",
        "for j in range(n_components):\r\n",
        "    ctr[:,j] = ctr[:,j]/(n_entries*pca.explained_variance_[j])\r\n",
        "\r\n",
        "print(\"Contribution aux axes (10 permiers) : \\n\")\r\n",
        "print(pd.DataFrame({'Axe 1':ctr[:,0],'Axe 2':ctr[:,1]}).head(10))"
      ],
      "execution_count": null,
      "outputs": [
        {
          "output_type": "stream",
          "text": [
            "Contribution aux axes (10 permiers) : \n",
            "\n",
            "          Axe 1         Axe 2\n",
            "0  6.040712e-04  4.215657e-04\n",
            "1  4.214797e-04  1.161931e-03\n",
            "2  6.585528e-04  8.843957e-05\n",
            "3  3.669714e-04  1.069096e-04\n",
            "4  2.407964e-04  6.937354e-04\n",
            "5  6.756957e-07  3.125874e-07\n",
            "6  8.848451e-06  6.434181e-04\n",
            "7  1.542306e-03  8.029793e-05\n",
            "8  1.123527e-05  5.859297e-04\n",
            "9  2.202672e-05  2.666168e-04\n"
          ],
          "name": "stdout"
        }
      ]
    },
    {
      "cell_type": "markdown",
      "metadata": {
        "id": "k5RwSIEbG-Bn"
      },
      "source": [
        "\r\n",
        "**Représentation des variables**\r\n",
        "\r\n",
        "Cercle des corrélations"
      ]
    },
    {
      "cell_type": "code",
      "metadata": {
        "colab": {
          "base_uri": "https://localhost:8080/"
        },
        "id": "mIqzQgAuGzky",
        "outputId": "9b2e8a7b-afa9-470b-d0bb-b3fe48244be5"
      },
      "source": [
        "# Corrélations entre variables et facteurs\r\n",
        "sqrt_vp = np.sqrt(pca.explained_variance_)\r\n",
        "varfac = np.zeros((len(features),len(features)))\r\n",
        "for i in range(n_components): \r\n",
        "    varfac[:,i] = pca.components_[i,:] * sqrt_vp[i]\r\n",
        "\r\n",
        "print(pd.DataFrame({'Variable':features,'Composante 1':varfac[:,0],'Composante 2':varfac[:,1]}))"
      ],
      "execution_count": null,
      "outputs": [
        {
          "output_type": "stream",
          "text": [
            "   Variable  Composante 1  Composante 2\n",
            "0       AGE      0.765678     -0.026472\n",
            "1  TRESTBPS      0.518558     -0.467286\n",
            "2      CHOL     -0.115706     -0.841648\n",
            "3   THALACH     -0.687449     -0.454091\n",
            "4   OLDPEAK      0.592296     -0.248127\n"
          ],
          "name": "stdout"
        }
      ]
    },
    {
      "cell_type": "code",
      "metadata": {
        "colab": {
          "base_uri": "https://localhost:8080/",
          "height": 525
        },
        "id": "gzMjkNViHFOn",
        "outputId": "b35792cd-19e2-471c-a5e1-e4c531ffc348"
      },
      "source": [
        "fig, axes = plt.subplots(figsize=(8,8))\r\n",
        "axes.set_xlim(-1,1)\r\n",
        "axes.set_ylim(-1,1)\r\n",
        "# Affichage des étiquettes (noms des variables)\r\n",
        "for j in range(len(features)):\r\n",
        "    plt.annotate(features[j],(varfac[j,0],varfac[j,1]))\r\n",
        "\r\n",
        "# Ajouter les axes\r\n",
        "plt.plot([-1,1],[0,0],color='silver',linestyle='-',linewidth=1)\r\n",
        "plt.plot([0,0],[-1,1],color='silver',linestyle='-',linewidth=1)\r\n",
        "# Ajouter un cercle\r\n",
        "cercle = plt.Circle((0,0),1,color='blue',fill=False)\r\n",
        "axes.add_artist(cercle)\r\n",
        "# Affichage\r\n",
        "plt.show()"
      ],
      "execution_count": null,
      "outputs": [
        {
          "output_type": "display_data",
          "data": {
            "image/png": "[encoded data removed]",
            "text/plain": [
              "<Figure size 576x576 with 1 Axes>"
            ]
          },
          "metadata": {
            "tags": []
          }
        }
      ]
    },
    {
      "cell_type": "markdown",
      "metadata": {
        "id": "SWaD1Lz9IakF"
      },
      "source": [
        "**Conclusion**\r\n",
        "\r\n",
        "Nous avons pu voir à l'aide de cette application comment effectuer une Analyse à Composantes Principales et exploiter ses données. En effet, elle nous a donné assez peu d'informations significatives."
      ]
    },
    {
      "cell_type": "code",
      "metadata": {
        "id": "nX_r7TWtDAT1"
      },
      "source": [
        "#Suppression des colonnes \r\n",
        "#data = df.drop(['CP', 'FBS', 'RESTECG','EXANG', 'SLOPE'], 1)"
      ],
      "execution_count": null,
      "outputs": []
    },
    {
      "cell_type": "markdown",
      "metadata": {
        "id": "ogkqBftdzr-A"
      },
      "source": [
        "# ML"
      ]
    },
    {
      "cell_type": "markdown",
      "metadata": {
        "id": "DHXj-Sf10xEY"
      },
      "source": [
        "## Package"
      ]
    },
    {
      "cell_type": "code",
      "metadata": {
        "id": "IpAIitqO0z_O"
      },
      "source": [
        "from sklearn.model_selection import train_test_split \r\n",
        "from sklearn import preprocessing\r\n",
        "from sklearn.preprocessing import StandardScaler\r\n",
        "from sklearn.linear_model import LogisticRegression\r\n",
        "from sklearn.neighbors import KNeighborsClassifier\r\n",
        "from sklearn.tree import DecisionTreeClassifier\r\n",
        "from sklearn.ensemble import RandomForestClassifier\r\n",
        "from sklearn.naive_bayes import GaussianNB\r\n",
        "from sklearn.svm import SVC\r\n",
        "from sklearn import metrics\r\n",
        "from sklearn.metrics import confusion_matrix, roc_curve\r\n",
        "from sklearn.model_selection import KFold\r\n",
        "from sklearn.model_selection import cross_val_score\r\n",
        "from sklearn.model_selection import cross_val_predict\r\n",
        "import warnings\r\n",
        "warnings.filterwarnings('ignore')\r\n",
        "from IPython.display import Image "
      ],
      "execution_count": null,
      "outputs": []
    },
    {
      "cell_type": "markdown",
      "metadata": {
        "id": "bfcQT3kmzzu_"
      },
      "source": [
        "## Encodage de colonnes catégoriques"
      ]
    },
    {
      "cell_type": "code",
      "metadata": {
        "id": "P5u2Eu7_zuP2"
      },
      "source": [
        "#On determine les colonnes non numeric\r\n",
        "numerics = ['int16', 'int32', 'int64', 'float16', 'float32', 'float64']\r\n",
        "non_numeric=df.select_dtypes(exclude=numerics).columns"
      ],
      "execution_count": null,
      "outputs": []
    },
    {
      "cell_type": "code",
      "metadata": {
        "id": "6FxC5Yq30Fp3"
      },
      "source": [
        "#Separation des colonnes catégoriques et continues non numéric\r\n",
        "Colonnes_catégoriques = []\r\n",
        "Colonnes_continues = []\r\n",
        "for i in non_numeric:\r\n",
        "    print('--------------------------')\r\n",
        "    print(f\"{i} : {df[i].unique()}\")\r\n",
        "    if len(df[i].unique()) <= 2:\r\n",
        "        Colonnes_catégoriques.append(i)\r\n",
        "    else:\r\n",
        "        Colonnes_continues.append(i)"
      ],
      "execution_count": null,
      "outputs": []
    },
    {
      "cell_type": "code",
      "metadata": {
        "colab": {
          "base_uri": "https://localhost:8080/"
        },
        "id": "U4TfJBpqz7qe",
        "outputId": "2b439bb6-89a7-4966-abd8-b9140c9c18df"
      },
      "source": [
        "#Colonnes catégoriques\r\n",
        "Colonnes_catégoriques"
      ],
      "execution_count": null,
      "outputs": [
        {
          "output_type": "execute_result",
          "data": {
            "text/plain": [
              "[]"
            ]
          },
          "metadata": {
            "tags": []
          },
          "execution_count": 48
        }
      ]
    },
    {
      "cell_type": "code",
      "metadata": {
        "colab": {
          "base_uri": "https://localhost:8080/"
        },
        "id": "AoMyajU40LSF",
        "outputId": "02ae9c42-5650-4a45-e22e-bd8c1c0dc5e8"
      },
      "source": [
        "#Colonnes continues\r\n",
        "Colonnes_continues"
      ],
      "execution_count": null,
      "outputs": [
        {
          "output_type": "execute_result",
          "data": {
            "text/plain": [
              "[]"
            ]
          },
          "metadata": {
            "tags": []
          },
          "execution_count": 49
        }
      ]
    },
    {
      "cell_type": "markdown",
      "metadata": {
        "id": "FL3pnHbo0SPM"
      },
      "source": [
        "\r\n",
        "\r\n",
        "---\r\n",
        "\r\n",
        "dont on va pas avoir besoin de phase de ***Label Encoder*** et ***One-Hot Encoding*** :\r\n",
        "\r\n",
        "\r\n",
        "\r\n",
        "---\r\n",
        "\r\n",
        "\r\n"
      ]
    },
    {
      "cell_type": "markdown",
      "metadata": {
        "id": "l_HHcuLhoAMS"
      },
      "source": [
        "## Standardisation des données :"
      ]
    },
    {
      "cell_type": "markdown",
      "metadata": {
        "id": "DmumlVGI0p3v"
      },
      "source": [
        "## algorithmes du Machine Learning"
      ]
    },
    {
      "cell_type": "code",
      "metadata": {
        "colab": {
          "base_uri": "https://localhost:8080/",
          "height": 419
        },
        "id": "Gt7nP4QcoM_L",
        "outputId": "0a0af151-5e0d-4c3b-c87e-67df203e1cae"
      },
      "source": [
        "df"
      ],
      "execution_count": null,
      "outputs": [
        {
          "output_type": "execute_result",
          "data": {
            "text/html": [
              "<div>\n",
              "<style scoped>\n",
              "    .dataframe tbody tr th:only-of-type {\n",
              "        vertical-align: middle;\n",
              "    }\n",
              "\n",
              "    .dataframe tbody tr th {\n",
              "        vertical-align: top;\n",
              "    }\n",
              "\n",
              "    .dataframe thead th {\n",
              "        text-align: right;\n",
              "    }\n",
              "</style>\n",
              "<table border=\"1\" class=\"dataframe\">\n",
              "  <thead>\n",
              "    <tr style=\"text-align: right;\">\n",
              "      <th></th>\n",
              "      <th>AGE</th>\n",
              "      <th>SEX</th>\n",
              "      <th>CP</th>\n",
              "      <th>TRESTBPS</th>\n",
              "      <th>CHOL</th>\n",
              "      <th>FBS</th>\n",
              "      <th>RESTECG</th>\n",
              "      <th>THALACH</th>\n",
              "      <th>EXANG</th>\n",
              "      <th>OLDPEAK</th>\n",
              "      <th>SLOPE</th>\n",
              "      <th>TARGET</th>\n",
              "      <th>CA</th>\n",
              "      <th>THAL</th>\n",
              "    </tr>\n",
              "  </thead>\n",
              "  <tbody>\n",
              "    <tr>\n",
              "      <th>0</th>\n",
              "      <td>63</td>\n",
              "      <td>1</td>\n",
              "      <td>3</td>\n",
              "      <td>145</td>\n",
              "      <td>233</td>\n",
              "      <td>1</td>\n",
              "      <td>0</td>\n",
              "      <td>150</td>\n",
              "      <td>0</td>\n",
              "      <td>2.3</td>\n",
              "      <td>0</td>\n",
              "      <td>1</td>\n",
              "      <td>0.0</td>\n",
              "      <td>1.0</td>\n",
              "    </tr>\n",
              "    <tr>\n",
              "      <th>1</th>\n",
              "      <td>37</td>\n",
              "      <td>1</td>\n",
              "      <td>2</td>\n",
              "      <td>130</td>\n",
              "      <td>250</td>\n",
              "      <td>0</td>\n",
              "      <td>1</td>\n",
              "      <td>187</td>\n",
              "      <td>0</td>\n",
              "      <td>3.5</td>\n",
              "      <td>0</td>\n",
              "      <td>1</td>\n",
              "      <td>0.0</td>\n",
              "      <td>2.0</td>\n",
              "    </tr>\n",
              "    <tr>\n",
              "      <th>2</th>\n",
              "      <td>41</td>\n",
              "      <td>0</td>\n",
              "      <td>1</td>\n",
              "      <td>130</td>\n",
              "      <td>204</td>\n",
              "      <td>0</td>\n",
              "      <td>0</td>\n",
              "      <td>172</td>\n",
              "      <td>0</td>\n",
              "      <td>1.4</td>\n",
              "      <td>2</td>\n",
              "      <td>1</td>\n",
              "      <td>0.0</td>\n",
              "      <td>2.0</td>\n",
              "    </tr>\n",
              "    <tr>\n",
              "      <th>3</th>\n",
              "      <td>56</td>\n",
              "      <td>1</td>\n",
              "      <td>1</td>\n",
              "      <td>120</td>\n",
              "      <td>236</td>\n",
              "      <td>0</td>\n",
              "      <td>1</td>\n",
              "      <td>178</td>\n",
              "      <td>0</td>\n",
              "      <td>0.8</td>\n",
              "      <td>2</td>\n",
              "      <td>1</td>\n",
              "      <td>0.0</td>\n",
              "      <td>2.0</td>\n",
              "    </tr>\n",
              "    <tr>\n",
              "      <th>4</th>\n",
              "      <td>57</td>\n",
              "      <td>0</td>\n",
              "      <td>0</td>\n",
              "      <td>120</td>\n",
              "      <td>354</td>\n",
              "      <td>0</td>\n",
              "      <td>1</td>\n",
              "      <td>163</td>\n",
              "      <td>1</td>\n",
              "      <td>0.6</td>\n",
              "      <td>2</td>\n",
              "      <td>1</td>\n",
              "      <td>0.0</td>\n",
              "      <td>2.0</td>\n",
              "    </tr>\n",
              "    <tr>\n",
              "      <th>...</th>\n",
              "      <td>...</td>\n",
              "      <td>...</td>\n",
              "      <td>...</td>\n",
              "      <td>...</td>\n",
              "      <td>...</td>\n",
              "      <td>...</td>\n",
              "      <td>...</td>\n",
              "      <td>...</td>\n",
              "      <td>...</td>\n",
              "      <td>...</td>\n",
              "      <td>...</td>\n",
              "      <td>...</td>\n",
              "      <td>...</td>\n",
              "      <td>...</td>\n",
              "    </tr>\n",
              "    <tr>\n",
              "      <th>1488</th>\n",
              "      <td>45</td>\n",
              "      <td>1</td>\n",
              "      <td>1</td>\n",
              "      <td>110</td>\n",
              "      <td>264</td>\n",
              "      <td>0</td>\n",
              "      <td>0</td>\n",
              "      <td>132</td>\n",
              "      <td>0</td>\n",
              "      <td>1.2</td>\n",
              "      <td>2</td>\n",
              "      <td>1</td>\n",
              "      <td>1.0</td>\n",
              "      <td>2.0</td>\n",
              "    </tr>\n",
              "    <tr>\n",
              "      <th>1489</th>\n",
              "      <td>68</td>\n",
              "      <td>1</td>\n",
              "      <td>4</td>\n",
              "      <td>144</td>\n",
              "      <td>193</td>\n",
              "      <td>1</td>\n",
              "      <td>0</td>\n",
              "      <td>141</td>\n",
              "      <td>0</td>\n",
              "      <td>3.4</td>\n",
              "      <td>2</td>\n",
              "      <td>1</td>\n",
              "      <td>1.0</td>\n",
              "      <td>2.0</td>\n",
              "    </tr>\n",
              "    <tr>\n",
              "      <th>1490</th>\n",
              "      <td>57</td>\n",
              "      <td>1</td>\n",
              "      <td>4</td>\n",
              "      <td>130</td>\n",
              "      <td>131</td>\n",
              "      <td>0</td>\n",
              "      <td>0</td>\n",
              "      <td>115</td>\n",
              "      <td>1</td>\n",
              "      <td>1.2</td>\n",
              "      <td>2</td>\n",
              "      <td>1</td>\n",
              "      <td>1.0</td>\n",
              "      <td>2.0</td>\n",
              "    </tr>\n",
              "    <tr>\n",
              "      <th>1491</th>\n",
              "      <td>57</td>\n",
              "      <td>0</td>\n",
              "      <td>2</td>\n",
              "      <td>130</td>\n",
              "      <td>236</td>\n",
              "      <td>0</td>\n",
              "      <td>2</td>\n",
              "      <td>174</td>\n",
              "      <td>0</td>\n",
              "      <td>0.0</td>\n",
              "      <td>2</td>\n",
              "      <td>1</td>\n",
              "      <td>1.0</td>\n",
              "      <td>2.0</td>\n",
              "    </tr>\n",
              "    <tr>\n",
              "      <th>1492</th>\n",
              "      <td>38</td>\n",
              "      <td>1</td>\n",
              "      <td>3</td>\n",
              "      <td>138</td>\n",
              "      <td>175</td>\n",
              "      <td>0</td>\n",
              "      <td>0</td>\n",
              "      <td>173</td>\n",
              "      <td>0</td>\n",
              "      <td>0.0</td>\n",
              "      <td>1</td>\n",
              "      <td>0</td>\n",
              "      <td>1.0</td>\n",
              "      <td>2.0</td>\n",
              "    </tr>\n",
              "  </tbody>\n",
              "</table>\n",
              "<p>1493 rows × 14 columns</p>\n",
              "</div>"
            ],
            "text/plain": [
              "      AGE  SEX  CP  TRESTBPS  CHOL  ...  OLDPEAK  SLOPE  TARGET   CA  THAL\n",
              "0      63    1   3       145   233  ...      2.3      0       1  0.0   1.0\n",
              "1      37    1   2       130   250  ...      3.5      0       1  0.0   2.0\n",
              "2      41    0   1       130   204  ...      1.4      2       1  0.0   2.0\n",
              "3      56    1   1       120   236  ...      0.8      2       1  0.0   2.0\n",
              "4      57    0   0       120   354  ...      0.6      2       1  0.0   2.0\n",
              "...   ...  ...  ..       ...   ...  ...      ...    ...     ...  ...   ...\n",
              "1488   45    1   1       110   264  ...      1.2      2       1  1.0   2.0\n",
              "1489   68    1   4       144   193  ...      3.4      2       1  1.0   2.0\n",
              "1490   57    1   4       130   131  ...      1.2      2       1  1.0   2.0\n",
              "1491   57    0   2       130   236  ...      0.0      2       1  1.0   2.0\n",
              "1492   38    1   3       138   175  ...      0.0      1       0  1.0   2.0\n",
              "\n",
              "[1493 rows x 14 columns]"
            ]
          },
          "metadata": {
            "tags": []
          },
          "execution_count": 50
        }
      ]
    },
    {
      "cell_type": "code",
      "metadata": {
        "id": "zTwBBwyWoXHI"
      },
      "source": [
        "Sc=StandardScaler()\r\n",
        "#Colonnes continue numéric\r\n",
        "#Mise en échelle\r\n",
        "data = df\r\n",
        "data[['AGE','TRESTBPS','CHOL','THALACH','OLDPEAK']]=Sc.fit_transform(data[['AGE','TRESTBPS','CHOL','THALACH','OLDPEAK']])"
      ],
      "execution_count": null,
      "outputs": []
    },
    {
      "cell_type": "code",
      "metadata": {
        "colab": {
          "base_uri": "https://localhost:8080/",
          "height": 419
        },
        "id": "tEDnE-EnZqMt",
        "outputId": "458f4f8b-6dde-449e-abc7-c2149ef384f1"
      },
      "source": [
        "data"
      ],
      "execution_count": null,
      "outputs": [
        {
          "output_type": "execute_result",
          "data": {
            "text/html": [
              "<div>\n",
              "<style scoped>\n",
              "    .dataframe tbody tr th:only-of-type {\n",
              "        vertical-align: middle;\n",
              "    }\n",
              "\n",
              "    .dataframe tbody tr th {\n",
              "        vertical-align: top;\n",
              "    }\n",
              "\n",
              "    .dataframe thead th {\n",
              "        text-align: right;\n",
              "    }\n",
              "</style>\n",
              "<table border=\"1\" class=\"dataframe\">\n",
              "  <thead>\n",
              "    <tr style=\"text-align: right;\">\n",
              "      <th></th>\n",
              "      <th>AGE</th>\n",
              "      <th>SEX</th>\n",
              "      <th>CP</th>\n",
              "      <th>TRESTBPS</th>\n",
              "      <th>CHOL</th>\n",
              "      <th>FBS</th>\n",
              "      <th>RESTECG</th>\n",
              "      <th>THALACH</th>\n",
              "      <th>EXANG</th>\n",
              "      <th>OLDPEAK</th>\n",
              "      <th>SLOPE</th>\n",
              "      <th>TARGET</th>\n",
              "      <th>CA</th>\n",
              "      <th>THAL</th>\n",
              "    </tr>\n",
              "  </thead>\n",
              "  <tbody>\n",
              "    <tr>\n",
              "      <th>0</th>\n",
              "      <td>0.983695</td>\n",
              "      <td>1</td>\n",
              "      <td>3</td>\n",
              "      <td>0.712033</td>\n",
              "      <td>0.162316</td>\n",
              "      <td>1</td>\n",
              "      <td>0</td>\n",
              "      <td>0.326165</td>\n",
              "      <td>0</td>\n",
              "      <td>1.228071</td>\n",
              "      <td>0</td>\n",
              "      <td>1</td>\n",
              "      <td>0.0</td>\n",
              "      <td>1.0</td>\n",
              "    </tr>\n",
              "    <tr>\n",
              "      <th>1</th>\n",
              "      <td>-1.811902</td>\n",
              "      <td>1</td>\n",
              "      <td>2</td>\n",
              "      <td>-0.112475</td>\n",
              "      <td>0.342076</td>\n",
              "      <td>0</td>\n",
              "      <td>1</td>\n",
              "      <td>1.788047</td>\n",
              "      <td>0</td>\n",
              "      <td>2.316853</td>\n",
              "      <td>0</td>\n",
              "      <td>1</td>\n",
              "      <td>0.0</td>\n",
              "      <td>2.0</td>\n",
              "    </tr>\n",
              "    <tr>\n",
              "      <th>2</th>\n",
              "      <td>-1.381810</td>\n",
              "      <td>0</td>\n",
              "      <td>1</td>\n",
              "      <td>-0.112475</td>\n",
              "      <td>-0.144334</td>\n",
              "      <td>0</td>\n",
              "      <td>0</td>\n",
              "      <td>1.195392</td>\n",
              "      <td>0</td>\n",
              "      <td>0.411484</td>\n",
              "      <td>2</td>\n",
              "      <td>1</td>\n",
              "      <td>0.0</td>\n",
              "      <td>2.0</td>\n",
              "    </tr>\n",
              "    <tr>\n",
              "      <th>3</th>\n",
              "      <td>0.231034</td>\n",
              "      <td>1</td>\n",
              "      <td>1</td>\n",
              "      <td>-0.662146</td>\n",
              "      <td>0.194038</td>\n",
              "      <td>0</td>\n",
              "      <td>1</td>\n",
              "      <td>1.432454</td>\n",
              "      <td>0</td>\n",
              "      <td>-0.132907</td>\n",
              "      <td>2</td>\n",
              "      <td>1</td>\n",
              "      <td>0.0</td>\n",
              "      <td>2.0</td>\n",
              "    </tr>\n",
              "    <tr>\n",
              "      <th>4</th>\n",
              "      <td>0.338557</td>\n",
              "      <td>0</td>\n",
              "      <td>0</td>\n",
              "      <td>-0.662146</td>\n",
              "      <td>1.441785</td>\n",
              "      <td>0</td>\n",
              "      <td>1</td>\n",
              "      <td>0.839800</td>\n",
              "      <td>1</td>\n",
              "      <td>-0.314371</td>\n",
              "      <td>2</td>\n",
              "      <td>1</td>\n",
              "      <td>0.0</td>\n",
              "      <td>2.0</td>\n",
              "    </tr>\n",
              "    <tr>\n",
              "      <th>...</th>\n",
              "      <td>...</td>\n",
              "      <td>...</td>\n",
              "      <td>...</td>\n",
              "      <td>...</td>\n",
              "      <td>...</td>\n",
              "      <td>...</td>\n",
              "      <td>...</td>\n",
              "      <td>...</td>\n",
              "      <td>...</td>\n",
              "      <td>...</td>\n",
              "      <td>...</td>\n",
              "      <td>...</td>\n",
              "      <td>...</td>\n",
              "      <td>...</td>\n",
              "    </tr>\n",
              "    <tr>\n",
              "      <th>1488</th>\n",
              "      <td>-0.951719</td>\n",
              "      <td>1</td>\n",
              "      <td>1</td>\n",
              "      <td>-1.211818</td>\n",
              "      <td>0.490114</td>\n",
              "      <td>0</td>\n",
              "      <td>0</td>\n",
              "      <td>-0.385021</td>\n",
              "      <td>0</td>\n",
              "      <td>0.230020</td>\n",
              "      <td>2</td>\n",
              "      <td>1</td>\n",
              "      <td>1.0</td>\n",
              "      <td>2.0</td>\n",
              "    </tr>\n",
              "    <tr>\n",
              "      <th>1489</th>\n",
              "      <td>1.521309</td>\n",
              "      <td>1</td>\n",
              "      <td>4</td>\n",
              "      <td>0.657065</td>\n",
              "      <td>-0.260649</td>\n",
              "      <td>1</td>\n",
              "      <td>0</td>\n",
              "      <td>-0.029428</td>\n",
              "      <td>0</td>\n",
              "      <td>2.226121</td>\n",
              "      <td>2</td>\n",
              "      <td>1</td>\n",
              "      <td>1.0</td>\n",
              "      <td>2.0</td>\n",
              "    </tr>\n",
              "    <tr>\n",
              "      <th>1490</th>\n",
              "      <td>0.338557</td>\n",
              "      <td>1</td>\n",
              "      <td>4</td>\n",
              "      <td>-0.112475</td>\n",
              "      <td>-0.916245</td>\n",
              "      <td>0</td>\n",
              "      <td>0</td>\n",
              "      <td>-1.056696</td>\n",
              "      <td>1</td>\n",
              "      <td>0.230020</td>\n",
              "      <td>2</td>\n",
              "      <td>1</td>\n",
              "      <td>1.0</td>\n",
              "      <td>2.0</td>\n",
              "    </tr>\n",
              "    <tr>\n",
              "      <th>1491</th>\n",
              "      <td>0.338557</td>\n",
              "      <td>0</td>\n",
              "      <td>2</td>\n",
              "      <td>-0.112475</td>\n",
              "      <td>0.194038</td>\n",
              "      <td>0</td>\n",
              "      <td>2</td>\n",
              "      <td>1.274413</td>\n",
              "      <td>0</td>\n",
              "      <td>-0.858762</td>\n",
              "      <td>2</td>\n",
              "      <td>1</td>\n",
              "      <td>1.0</td>\n",
              "      <td>2.0</td>\n",
              "    </tr>\n",
              "    <tr>\n",
              "      <th>1492</th>\n",
              "      <td>-1.704379</td>\n",
              "      <td>1</td>\n",
              "      <td>3</td>\n",
              "      <td>0.327263</td>\n",
              "      <td>-0.450983</td>\n",
              "      <td>0</td>\n",
              "      <td>0</td>\n",
              "      <td>1.234903</td>\n",
              "      <td>0</td>\n",
              "      <td>-0.858762</td>\n",
              "      <td>1</td>\n",
              "      <td>0</td>\n",
              "      <td>1.0</td>\n",
              "      <td>2.0</td>\n",
              "    </tr>\n",
              "  </tbody>\n",
              "</table>\n",
              "<p>1493 rows × 14 columns</p>\n",
              "</div>"
            ],
            "text/plain": [
              "           AGE  SEX  CP  TRESTBPS      CHOL  ...   OLDPEAK  SLOPE  TARGET   CA  THAL\n",
              "0     0.983695    1   3  0.712033  0.162316  ...  1.228071      0       1  0.0   1.0\n",
              "1    -1.811902    1   2 -0.112475  0.342076  ...  2.316853      0       1  0.0   2.0\n",
              "2    -1.381810    0   1 -0.112475 -0.144334  ...  0.411484      2       1  0.0   2.0\n",
              "3     0.231034    1   1 -0.662146  0.194038  ... -0.132907      2       1  0.0   2.0\n",
              "4     0.338557    0   0 -0.662146  1.441785  ... -0.314371      2       1  0.0   2.0\n",
              "...        ...  ...  ..       ...       ...  ...       ...    ...     ...  ...   ...\n",
              "1488 -0.951719    1   1 -1.211818  0.490114  ...  0.230020      2       1  1.0   2.0\n",
              "1489  1.521309    1   4  0.657065 -0.260649  ...  2.226121      2       1  1.0   2.0\n",
              "1490  0.338557    1   4 -0.112475 -0.916245  ...  0.230020      2       1  1.0   2.0\n",
              "1491  0.338557    0   2 -0.112475  0.194038  ... -0.858762      2       1  1.0   2.0\n",
              "1492 -1.704379    1   3  0.327263 -0.450983  ... -0.858762      1       0  1.0   2.0\n",
              "\n",
              "[1493 rows x 14 columns]"
            ]
          },
          "metadata": {
            "tags": []
          },
          "execution_count": 52
        }
      ]
    },
    {
      "cell_type": "markdown",
      "metadata": {
        "id": "ngw3eBTv94Vw"
      },
      "source": [
        "### *Cross Validation (K-fold) :*\r\n",
        "_____"
      ]
    },
    {
      "cell_type": "code",
      "metadata": {
        "colab": {
          "base_uri": "https://localhost:8080/",
          "height": 382
        },
        "id": "_V7_JcC498tY",
        "outputId": "01d2f3fb-beb6-4c9b-acb6-d89c22191528"
      },
      "source": [
        "Image(url=\"https://miro.medium.com/max/1000/1*PdwlCactbJf8F8C7sP-3gw.png\")"
      ],
      "execution_count": null,
      "outputs": [
        {
          "output_type": "execute_result",
          "data": {
            "text/html": [
              "<img src=\"https://miro.medium.com/max/1000/1*PdwlCactbJf8F8C7sP-3gw.png\"/>"
            ],
            "text/plain": [
              "<IPython.core.display.Image object>"
            ]
          },
          "metadata": {
            "tags": []
          },
          "execution_count": 53
        }
      ]
    },
    {
      "cell_type": "code",
      "metadata": {
        "id": "wI5MvcxuZwp7"
      },
      "source": [
        "import pandas as pd\r\n",
        "data_train, data_test = train_test_split(df,random_state= 42, stratify=df['TARGET'])\r\n",
        "#target\r\n",
        "y_train = data_train['TARGET']\r\n",
        "y_test = data_test['TARGET']\r\n",
        "#features\r\n",
        "X_train = data_train.drop('TARGET',axis=1)  \r\n",
        "X_test = data_test.drop('TARGET',axis=1)  \r\n",
        "\r\n",
        "k_fold = KFold(n_splits=5, shuffle=True, random_state=0)\r\n",
        "\r\n",
        "\r\n",
        "\r\n"
      ],
      "execution_count": null,
      "outputs": []
    },
    {
      "cell_type": "code",
      "metadata": {
        "colab": {
          "base_uri": "https://localhost:8080/"
        },
        "id": "iUnDdemcZ9xu",
        "outputId": "3a9b241f-fa19-4a8c-8a87-a41eba375e43"
      },
      "source": [
        "y_train"
      ],
      "execution_count": null,
      "outputs": [
        {
          "output_type": "execute_result",
          "data": {
            "text/plain": [
              "969     1\n",
              "1027    1\n",
              "361     0\n",
              "1176    0\n",
              "1272    0\n",
              "       ..\n",
              "1052    0\n",
              "858     0\n",
              "976     1\n",
              "580     1\n",
              "348     0\n",
              "Name: TARGET, Length: 1119, dtype: int64"
            ]
          },
          "metadata": {
            "tags": []
          },
          "execution_count": 134
        }
      ]
    },
    {
      "cell_type": "code",
      "metadata": {
        "colab": {
          "base_uri": "https://localhost:8080/"
        },
        "id": "PPPe4OJ3cBvE",
        "outputId": "f717e389-eb55-42b9-a0e1-fef99bfe1b3c"
      },
      "source": [
        "y"
      ],
      "execution_count": null,
      "outputs": [
        {
          "output_type": "execute_result",
          "data": {
            "text/plain": [
              "0       1\n",
              "1       1\n",
              "2       1\n",
              "3       1\n",
              "4       1\n",
              "       ..\n",
              "1488    1\n",
              "1489    1\n",
              "1490    1\n",
              "1491    1\n",
              "1492    0\n",
              "Name: TARGET, Length: 1493, dtype: int64"
            ]
          },
          "metadata": {
            "tags": []
          },
          "execution_count": 131
        }
      ]
    },
    {
      "cell_type": "markdown",
      "metadata": {
        "id": "mMd55jux2r6H"
      },
      "source": [
        "### ***Logistic Regression :***"
      ]
    },
    {
      "cell_type": "code",
      "metadata": {
        "colab": {
          "base_uri": "https://localhost:8080/"
        },
        "id": "bVPkVf6O9ZFt",
        "outputId": "1402f957-1435-44fb-91fe-6c9f92abff8f"
      },
      "source": [
        "LR = LogisticRegression()\r\n",
        "scoring = 'accuracy'\r\n",
        "scoreLR = (cross_val_score(LR,x,y,cv=k_fold, n_jobs=1, scoring=scoring))\r\n",
        "scoreLR.round(2)"
      ],
      "execution_count": null,
      "outputs": [
        {
          "output_type": "execute_result",
          "data": {
            "text/plain": [
              "array([0.82, 0.84, 0.81, 0.8 , 0.79])"
            ]
          },
          "metadata": {
            "tags": []
          },
          "execution_count": 143
        }
      ]
    },
    {
      "cell_type": "code",
      "metadata": {
        "colab": {
          "base_uri": "https://localhost:8080/"
        },
        "id": "7ZjXmwVs9cMW",
        "outputId": "23d190af-a876-477e-f9b1-5be86aefa86a"
      },
      "source": [
        "round(scoreLR.mean(),5)"
      ],
      "execution_count": null,
      "outputs": [
        {
          "output_type": "execute_result",
          "data": {
            "text/plain": [
              "0.80976"
            ]
          },
          "metadata": {
            "tags": []
          },
          "execution_count": 144
        }
      ]
    },
    {
      "cell_type": "code",
      "metadata": {
        "id": "JCZBLpig9jWR"
      },
      "source": [
        "#https://scikit-learn.org/stable/modules/generated/sklearn.model_selection.cross_val_predict.html\r\n",
        "y_pred = cross_val_predict(LR,X_train,y_train, cv=k_fold)"
      ],
      "execution_count": null,
      "outputs": []
    },
    {
      "cell_type": "code",
      "metadata": {
        "colab": {
          "base_uri": "https://localhost:8080/",
          "height": 366
        },
        "id": "BPi5jOtk9rzP",
        "outputId": "869f48d2-9617-4396-c33d-fc4c656e9e2b"
      },
      "source": [
        "confusionmatrix=confusion_matrix(y_train,y_pred)\r\n",
        "plt.rcParams['figure.figsize'] = (10, 5)\r\n",
        "plt.style.use('ggplot')\r\n",
        "\r\n",
        "sns.heatmap(confusionmatrix, annot=True, cmap=\"YlGnBu\", fmt=\".0f\")\r\n",
        "plt.title('Matrice de Confusion de trainement', fontsize = 20)\r\n",
        "plt.show()"
      ],
      "execution_count": null,
      "outputs": [
        {
          "output_type": "display_data",
          "data": {
            "image/png": "[encoded data removed]",
            "text/plain": [
              "<Figure size 720x360 with 2 Axes>"
            ]
          },
          "metadata": {
            "tags": []
          }
        }
      ]
    },
    {
      "cell_type": "markdown",
      "metadata": {
        "id": "nHB_iWBBUOva"
      },
      "source": [
        "***testing***"
      ]
    },
    {
      "cell_type": "code",
      "metadata": {
        "colab": {
          "base_uri": "https://localhost:8080/",
          "height": 366
        },
        "id": "XK8LJBFuUQq6",
        "outputId": "a9037da4-ecf9-4c22-8ade-fa21f1075ff0"
      },
      "source": [
        "y_pred = cross_val_predict(LR, X_test,y_test , cv=k_fold)\r\n",
        "confusionmatrix=confusion_matrix(y_test,y_pred)\r\n",
        "plt.rcParams['figure.figsize'] = (10, 5)\r\n",
        "plt.style.use('ggplot')\r\n",
        "\r\n",
        "sns.heatmap(confusionmatrix, annot=True, cmap=\"YlGnBu\", fmt=\".0f\")\r\n",
        "plt.title('Matrice de Confusion de test', fontsize = 20)\r\n",
        "plt.show()"
      ],
      "execution_count": null,
      "outputs": [
        {
          "output_type": "display_data",
          "data": {
            "image/png": "[encoded data removed]",
            "text/plain": [
              "<Figure size 720x360 with 2 Axes>"
            ]
          },
          "metadata": {
            "tags": []
          }
        }
      ]
    },
    {
      "cell_type": "markdown",
      "metadata": {
        "id": "KiO5ydVrhsM6"
      },
      "source": [
        "### **Random Forest :**"
      ]
    },
    {
      "cell_type": "code",
      "metadata": {
        "id": "aL6JsOtyhx-T",
        "colab": {
          "base_uri": "https://localhost:8080/",
          "height": 761
        },
        "outputId": "9c2bd1e3-4924-4b14-d424-fbd5c349d3c7"
      },
      "source": [
        "Image(url='https://i.ytimg.com/vi/goPiwckWE9M/maxresdefault.jpg')"
      ],
      "execution_count": null,
      "outputs": [
        {
          "output_type": "execute_result",
          "data": {
            "text/html": [
              "<img src=\"https://i.ytimg.com/vi/goPiwckWE9M/maxresdefault.jpg\"/>"
            ],
            "text/plain": [
              "<IPython.core.display.Image object>"
            ]
          },
          "metadata": {
            "tags": []
          },
          "execution_count": 96
        }
      ]
    },
    {
      "cell_type": "code",
      "metadata": {
        "id": "FlufCnJjh6Gy",
        "colab": {
          "base_uri": "https://localhost:8080/"
        },
        "outputId": "7c60c6f6-fafd-46b6-a7ad-10c5b7c52293"
      },
      "source": [
        "randomforest_classifier= RandomForestClassifier(n_estimators=10)\r\n",
        "scoring = 'accuracy'\r\n",
        "scoreRF = (cross_val_score(randomforest_classifier,x,y, cv=k_fold, n_jobs=1, scoring=scoring))\r\n",
        "scoreRF.round(2)"
      ],
      "execution_count": null,
      "outputs": [
        {
          "output_type": "execute_result",
          "data": {
            "text/plain": [
              "array([0.9 , 0.9 , 0.86, 0.86, 0.89])"
            ]
          },
          "metadata": {
            "tags": []
          },
          "execution_count": 152
        }
      ]
    },
    {
      "cell_type": "code",
      "metadata": {
        "id": "ohlKHHUvh95j",
        "colab": {
          "base_uri": "https://localhost:8080/"
        },
        "outputId": "6370737a-a32b-4329-fa43-61460fecb118"
      },
      "source": [
        "round(scoreRF.mean(),5)"
      ],
      "execution_count": null,
      "outputs": [
        {
          "output_type": "execute_result",
          "data": {
            "text/plain": [
              "0.88077"
            ]
          },
          "metadata": {
            "tags": []
          },
          "execution_count": 153
        }
      ]
    },
    {
      "cell_type": "code",
      "metadata": {
        "id": "18BcBqs3iDEq"
      },
      "source": [
        "y_pred = cross_val_predict(randomforest_classifier,X_train,y_train, cv=k_fold)\r\n",
        "confusionmatrix=confusion_matrix(y_train,y_pred)"
      ],
      "execution_count": null,
      "outputs": []
    },
    {
      "cell_type": "code",
      "metadata": {
        "id": "QkNBz7OciFsk",
        "colab": {
          "base_uri": "https://localhost:8080/",
          "height": 366
        },
        "outputId": "8b2b237b-9c03-4105-9f8f-1a12b8d6ce40"
      },
      "source": [
        "plt.rcParams['figure.figsize'] = (10, 5)\r\n",
        "plt.style.use('ggplot')\r\n",
        "\r\n",
        "sns.heatmap(confusionmatrix, annot=True, cmap=\"YlGnBu\", fmt=\".0f\")\r\n",
        "plt.title('Matrice de Confusion de trainement', fontsize = 20)\r\n",
        "plt.show()"
      ],
      "execution_count": null,
      "outputs": [
        {
          "output_type": "display_data",
          "data": {
            "image/png": "[encoded data removed]",
            "text/plain": [
              "<Figure size 720x360 with 2 Axes>"
            ]
          },
          "metadata": {
            "tags": []
          }
        }
      ]
    },
    {
      "cell_type": "markdown",
      "metadata": {
        "id": "j8p-vOMpYaDl"
      },
      "source": [
        "***testing***"
      ]
    },
    {
      "cell_type": "code",
      "metadata": {
        "colab": {
          "base_uri": "https://localhost:8080/",
          "height": 366
        },
        "id": "LuTm31VLYZug",
        "outputId": "84a879ff-8fbe-4ef4-bc86-a3968866f243"
      },
      "source": [
        "y_pred = cross_val_predict(randomforest_classifier,X_test,y_test, cv=k_fold)\r\n",
        "confusionmatrix=confusion_matrix(y_test,y_pred)\r\n",
        "plt.rcParams['figure.figsize'] = (10, 5)\r\n",
        "plt.style.use('ggplot')\r\n",
        "\r\n",
        "sns.heatmap(confusionmatrix, annot=True, cmap=\"YlGnBu\", fmt=\".0f\")\r\n",
        "plt.title('Matrice de Confusion de test', fontsize = 20)\r\n",
        "plt.show()"
      ],
      "execution_count": null,
      "outputs": [
        {
          "output_type": "display_data",
          "data": {
            "image/png": "[encoded data removed]",
            "text/plain": [
              "<Figure size 720x360 with 2 Axes>"
            ]
          },
          "metadata": {
            "tags": []
          }
        }
      ]
    },
    {
      "cell_type": "markdown",
      "metadata": {
        "id": "CEax8jhLiWIF"
      },
      "source": [
        "### **Arbre de decision :**"
      ]
    },
    {
      "cell_type": "code",
      "metadata": {
        "id": "oaEq_7kJiIzS",
        "colab": {
          "base_uri": "https://localhost:8080/",
          "height": 421
        },
        "outputId": "bb1f5ad6-1d40-4925-b532-2971e7b44262"
      },
      "source": [
        "Image(url=\"https://static.javatpoint.com/tutorial/machine-learning/images/decision-tree-classification-algorithm.png\")"
      ],
      "execution_count": null,
      "outputs": [
        {
          "output_type": "execute_result",
          "data": {
            "text/html": [
              "<img src=\"https://static.javatpoint.com/tutorial/machine-learning/images/decision-tree-classification-algorithm.png\"/>"
            ],
            "text/plain": [
              "<IPython.core.display.Image object>"
            ]
          },
          "metadata": {
            "tags": []
          },
          "execution_count": 102
        }
      ]
    },
    {
      "cell_type": "code",
      "metadata": {
        "id": "6-zZsixJieAD",
        "colab": {
          "base_uri": "https://localhost:8080/"
        },
        "outputId": "4b48614f-d649-46a0-d084-4ae69b478290"
      },
      "source": [
        "DecisionTree = DecisionTreeClassifier()\r\n",
        "scoring = 'accuracy'\r\n",
        "scoreDT = (cross_val_score(DecisionTree,x,y, cv=k_fold, n_jobs=1, scoring=scoring))\r\n",
        "scoreDT.round(2)"
      ],
      "execution_count": null,
      "outputs": [
        {
          "output_type": "execute_result",
          "data": {
            "text/plain": [
              "array([0.87, 0.85, 0.85, 0.86, 0.84])"
            ]
          },
          "metadata": {
            "tags": []
          },
          "execution_count": 158
        }
      ]
    },
    {
      "cell_type": "code",
      "metadata": {
        "id": "WXypafAwiiGc",
        "colab": {
          "base_uri": "https://localhost:8080/"
        },
        "outputId": "6245e7cd-2fea-46e5-d4a4-7b6bb42b4326"
      },
      "source": [
        "round(scoreDT.mean(),5)"
      ],
      "execution_count": null,
      "outputs": [
        {
          "output_type": "execute_result",
          "data": {
            "text/plain": [
              "0.85465"
            ]
          },
          "metadata": {
            "tags": []
          },
          "execution_count": 159
        }
      ]
    },
    {
      "cell_type": "code",
      "metadata": {
        "id": "qguNkWZOikfS"
      },
      "source": [
        "y_pred = cross_val_predict(DecisionTree,X_train,y_train, cv=k_fold)"
      ],
      "execution_count": null,
      "outputs": []
    },
    {
      "cell_type": "code",
      "metadata": {
        "id": "rXAyGZK-ioNc",
        "colab": {
          "base_uri": "https://localhost:8080/",
          "height": 366
        },
        "outputId": "e96e1bd5-3ac8-47ce-940d-882cf7117b06"
      },
      "source": [
        "confusionmatrix=confusion_matrix(y_train,y_pred)\r\n",
        "plt.rcParams['figure.figsize'] = (10, 5)\r\n",
        "plt.style.use('ggplot')\r\n",
        "\r\n",
        "sns.heatmap(confusionmatrix, annot=True, cmap=\"YlGnBu\", fmt=\".0f\")\r\n",
        "plt.title('Matrice de Confusion de trainement', fontsize = 20)\r\n",
        "plt.show()"
      ],
      "execution_count": null,
      "outputs": [
        {
          "output_type": "display_data",
          "data": {
            "image/png": "[encoded data removed]",
            "text/plain": [
              "<Figure size 720x360 with 2 Axes>"
            ]
          },
          "metadata": {
            "tags": []
          }
        }
      ]
    },
    {
      "cell_type": "markdown",
      "metadata": {
        "id": "T88gZj0NYsmb"
      },
      "source": [
        "***testing***"
      ]
    },
    {
      "cell_type": "code",
      "metadata": {
        "colab": {
          "base_uri": "https://localhost:8080/",
          "height": 366
        },
        "id": "AeUnWG2_Ytgb",
        "outputId": "a9964dae-5da2-466b-e2f4-9fa97c1ffe7f"
      },
      "source": [
        "y_pred = cross_val_predict(DecisionTree,X_test,y_test, cv=k_fold)\r\n",
        "confusionmatrix=confusion_matrix(y_test,y_pred)\r\n",
        "plt.rcParams['figure.figsize'] = (10, 5)\r\n",
        "plt.style.use('ggplot')\r\n",
        "\r\n",
        "sns.heatmap(confusionmatrix, annot=True, cmap=\"YlGnBu\", fmt=\".0f\")\r\n",
        "plt.title('Matrice de Confusion de test', fontsize = 20)\r\n",
        "plt.show()"
      ],
      "execution_count": null,
      "outputs": [
        {
          "output_type": "display_data",
          "data": {
            "image/png": "[encoded data removed]",
            "text/plain": [
              "<Figure size 720x360 with 2 Axes>"
            ]
          },
          "metadata": {
            "tags": []
          }
        }
      ]
    },
    {
      "cell_type": "markdown",
      "metadata": {
        "id": "zZtuKegLivc8"
      },
      "source": [
        "### **Naive Baiyes** :"
      ]
    },
    {
      "cell_type": "code",
      "metadata": {
        "id": "yt4h5ONbixLp",
        "colab": {
          "base_uri": "https://localhost:8080/",
          "height": 381
        },
        "outputId": "3f30ea37-137d-4994-e8d6-6003c75ef39c"
      },
      "source": [
        "Image(url=\"https://s3.ap-south-1.amazonaws.com/techleer/204.png\")"
      ],
      "execution_count": null,
      "outputs": [
        {
          "output_type": "execute_result",
          "data": {
            "text/html": [
              "<img src=\"https://s3.ap-south-1.amazonaws.com/techleer/204.png\"/>"
            ],
            "text/plain": [
              "<IPython.core.display.Image object>"
            ]
          },
          "metadata": {
            "tags": []
          },
          "execution_count": 108
        }
      ]
    },
    {
      "cell_type": "code",
      "metadata": {
        "id": "HFttRHDoi_h9",
        "colab": {
          "base_uri": "https://localhost:8080/"
        },
        "outputId": "9c981290-1f81-418c-eac0-33d359ebd6eb"
      },
      "source": [
        "NB = GaussianNB()\r\n",
        "scoring = 'accuracy'\r\n",
        "scoreNB = (cross_val_score(NB,x,y, cv=k_fold, n_jobs=1, scoring=scoring))\r\n",
        "scoreNB.round(2)"
      ],
      "execution_count": null,
      "outputs": [
        {
          "output_type": "execute_result",
          "data": {
            "text/plain": [
              "array([0.74, 0.78, 0.75, 0.74, 0.74])"
            ]
          },
          "metadata": {
            "tags": []
          },
          "execution_count": 169
        }
      ]
    },
    {
      "cell_type": "code",
      "metadata": {
        "id": "uquQqpoxjDgm",
        "colab": {
          "base_uri": "https://localhost:8080/"
        },
        "outputId": "8a5257b2-fd31-4e20-96ea-21ecc7ac4b44"
      },
      "source": [
        "round(scoreNB.mean(),5)"
      ],
      "execution_count": null,
      "outputs": [
        {
          "output_type": "execute_result",
          "data": {
            "text/plain": [
              "0.75016"
            ]
          },
          "metadata": {
            "tags": []
          },
          "execution_count": 170
        }
      ]
    },
    {
      "cell_type": "code",
      "metadata": {
        "id": "OK_I3Hr4jGJC"
      },
      "source": [
        "y_pred = cross_val_predict(NB, X_train,y_train, cv=k_fold)"
      ],
      "execution_count": null,
      "outputs": []
    },
    {
      "cell_type": "code",
      "metadata": {
        "id": "YGYw8aUBjIWy",
        "colab": {
          "base_uri": "https://localhost:8080/",
          "height": 366
        },
        "outputId": "a645ebc7-e82a-4904-8000-7e02e1f3ceb0"
      },
      "source": [
        "confusionmatrix=confusion_matrix(y_train,y_pred)\r\n",
        "plt.rcParams['figure.figsize'] = (10, 5)\r\n",
        "plt.style.use('ggplot')\r\n",
        "\r\n",
        "sns.heatmap(confusionmatrix, annot=True, cmap=\"YlGnBu\", fmt=\".0f\")\r\n",
        "plt.title('Matrice de Confusion de trainement', fontsize = 20)\r\n",
        "plt.show()"
      ],
      "execution_count": null,
      "outputs": [
        {
          "output_type": "display_data",
          "data": {
            "image/png": "[encoded data removed]",
            "text/plain": [
              "<Figure size 720x360 with 2 Axes>"
            ]
          },
          "metadata": {
            "tags": []
          }
        }
      ]
    },
    {
      "cell_type": "markdown",
      "metadata": {
        "id": "z4gkBsYpZE7k"
      },
      "source": [
        "***testing***"
      ]
    },
    {
      "cell_type": "code",
      "metadata": {
        "colab": {
          "base_uri": "https://localhost:8080/",
          "height": 366
        },
        "id": "91azdf6qZHAW",
        "outputId": "a7621677-a9c2-417e-ced3-5ad9cf782844"
      },
      "source": [
        "y_pred = cross_val_predict(NB,X_test,y_test, cv=k_fold)\r\n",
        "confusionmatrix=confusion_matrix(y_test,y_pred)\r\n",
        "plt.rcParams['figure.figsize'] = (10, 5)\r\n",
        "plt.style.use('ggplot')\r\n",
        "\r\n",
        "sns.heatmap(confusionmatrix, annot=True, cmap=\"YlGnBu\", fmt=\".0f\")\r\n",
        "plt.title('Matrice de Confusion de test', fontsize = 20)\r\n",
        "plt.show()"
      ],
      "execution_count": null,
      "outputs": [
        {
          "output_type": "display_data",
          "data": {
            "image/png": "[encoded data removed]",
            "text/plain": [
              "<Figure size 720x360 with 2 Axes>"
            ]
          },
          "metadata": {
            "tags": []
          }
        }
      ]
    },
    {
      "cell_type": "markdown",
      "metadata": {
        "id": "wuZgbjQAjaRl"
      },
      "source": [
        "### **SVM (Support vector machine) :**"
      ]
    },
    {
      "cell_type": "code",
      "metadata": {
        "id": "jKZM5guAjbzi",
        "colab": {
          "base_uri": "https://localhost:8080/",
          "height": 421
        },
        "outputId": "0578f41b-6328-49ed-f4ee-c6b128acb12e"
      },
      "source": [
        "Image(url=\"https://static.javatpoint.com/tutorial/machine-learning/images/support-vector-machine-algorithm.png\")"
      ],
      "execution_count": null,
      "outputs": [
        {
          "output_type": "execute_result",
          "data": {
            "text/html": [
              "<img src=\"https://static.javatpoint.com/tutorial/machine-learning/images/support-vector-machine-algorithm.png\"/>"
            ],
            "text/plain": [
              "<IPython.core.display.Image object>"
            ]
          },
          "metadata": {
            "tags": []
          },
          "execution_count": 114
        }
      ]
    },
    {
      "cell_type": "code",
      "metadata": {
        "id": "mZ-_xGRkjgR6",
        "colab": {
          "base_uri": "https://localhost:8080/"
        },
        "outputId": "8d1e5ddb-c73d-4af0-85f5-f1cf54225247"
      },
      "source": [
        "SVM = SVC()\r\n",
        "scoring = 'accuracy'\r\n",
        "scoreSVM = (cross_val_score(SVM,x,y, cv=k_fold, n_jobs=1, scoring=scoring))\r\n",
        "scoreSVM.round(2)"
      ],
      "execution_count": null,
      "outputs": [
        {
          "output_type": "execute_result",
          "data": {
            "text/plain": [
              "array([0.85, 0.84, 0.82, 0.8 , 0.83])"
            ]
          },
          "metadata": {
            "tags": []
          },
          "execution_count": 176
        }
      ]
    },
    {
      "cell_type": "code",
      "metadata": {
        "id": "RvEDNc8Bjmtk",
        "colab": {
          "base_uri": "https://localhost:8080/"
        },
        "outputId": "fbaae583-7c2f-4379-ba62-91871327c667"
      },
      "source": [
        "round(scoreSVM.mean(),5)"
      ],
      "execution_count": null,
      "outputs": [
        {
          "output_type": "execute_result",
          "data": {
            "text/plain": [
              "0.82718"
            ]
          },
          "metadata": {
            "tags": []
          },
          "execution_count": 177
        }
      ]
    },
    {
      "cell_type": "code",
      "metadata": {
        "id": "6J2BLYJFjsnU",
        "colab": {
          "base_uri": "https://localhost:8080/",
          "height": 366
        },
        "outputId": "78f090f8-aab8-48ff-da84-307a516f318a"
      },
      "source": [
        "y_pred = cross_val_predict(SVM,X_train,y_train, cv=k_fold)\r\n",
        "confusionmatrix=confusion_matrix(y_train,y_pred)\r\n",
        "plt.rcParams['figure.figsize'] = (10, 5)\r\n",
        "plt.style.use('ggplot')\r\n",
        "\r\n",
        "sns.heatmap(confusionmatrix, annot=True, cmap=\"YlGnBu\", fmt=\".0f\")\r\n",
        "plt.title('Matrice de Confusion de trainement', fontsize = 20)\r\n",
        "plt.show()"
      ],
      "execution_count": null,
      "outputs": [
        {
          "output_type": "display_data",
          "data": {
            "image/png": "[encoded data removed]",
            "text/plain": [
              "<Figure size 720x360 with 2 Axes>"
            ]
          },
          "metadata": {
            "tags": []
          }
        }
      ]
    },
    {
      "cell_type": "markdown",
      "metadata": {
        "id": "WrH_RNvaZUyj"
      },
      "source": [
        "***testing***"
      ]
    },
    {
      "cell_type": "code",
      "metadata": {
        "colab": {
          "base_uri": "https://localhost:8080/",
          "height": 366
        },
        "id": "zyU1FY9pZVJI",
        "outputId": "95b15d27-d78f-4ca5-a9fc-9d6959182f18"
      },
      "source": [
        "y_pred = cross_val_predict(SVM,X_test,y_test, cv=k_fold)\r\n",
        "confusionmatrix=confusion_matrix(y_test,y_pred)\r\n",
        "plt.rcParams['figure.figsize'] = (10, 5)\r\n",
        "plt.style.use('ggplot')\r\n",
        "\r\n",
        "sns.heatmap(confusionmatrix, annot=True, cmap=\"YlGnBu\", fmt=\".0f\")\r\n",
        "plt.title('Matrice de Confusion de test', fontsize = 20)\r\n",
        "plt.show()"
      ],
      "execution_count": null,
      "outputs": [
        {
          "output_type": "display_data",
          "data": {
            "image/png": "[encoded data removed]",
            "text/plain": [
              "<Figure size 720x360 with 2 Axes>"
            ]
          },
          "metadata": {
            "tags": []
          }
        }
      ]
    },
    {
      "cell_type": "markdown",
      "metadata": {
        "id": "Pwa7a0S18h2Z"
      },
      "source": [
        "### **Algorithme KNN (k-nearest neighbors) :**"
      ]
    },
    {
      "cell_type": "code",
      "metadata": {
        "id": "ew2Qxx4S8hW4",
        "colab": {
          "base_uri": "https://localhost:8080/",
          "height": 367
        },
        "outputId": "bec22b36-11db-4c10-da55-9dbbfa2b0843"
      },
      "source": [
        "Image(url=\"http://res.cloudinary.com/dyd911kmh/image/upload/f_auto,q_auto:best/v1531424125/KNN_final_a1mrv9.png\")\r\n"
      ],
      "execution_count": null,
      "outputs": [
        {
          "output_type": "execute_result",
          "data": {
            "text/html": [
              "<img src=\"http://res.cloudinary.com/dyd911kmh/image/upload/f_auto,q_auto:best/v1531424125/KNN_final_a1mrv9.png\"/>"
            ],
            "text/plain": [
              "<IPython.core.display.Image object>"
            ]
          },
          "metadata": {
            "tags": []
          },
          "execution_count": 119
        }
      ]
    },
    {
      "cell_type": "code",
      "metadata": {
        "id": "FGRgx03B3nuv"
      },
      "source": [
        "knn_scores = []\r\n",
        "for k in range(1,21):\r\n",
        "    knn_classifier = KNeighborsClassifier(n_neighbors = k)\r\n",
        "    scoring = 'accuracy'\r\n",
        "    score = (cross_val_score(knn_classifier,x,y,cv=k_fold, n_jobs=1, scoring=scoring))\r\n",
        "    knn_scores.append(score.mean().round(3))"
      ],
      "execution_count": null,
      "outputs": []
    },
    {
      "cell_type": "code",
      "metadata": {
        "id": "eaoO0Szs0lz3",
        "colab": {
          "base_uri": "https://localhost:8080/"
        },
        "outputId": "8a3fe2fa-b3e1-40d5-bd8c-e7da278563cf"
      },
      "source": [
        "knn_scores"
      ],
      "execution_count": null,
      "outputs": [
        {
          "output_type": "execute_result",
          "data": {
            "text/plain": [
              "[0.854,\n",
              " 0.807,\n",
              " 0.813,\n",
              " 0.806,\n",
              " 0.822,\n",
              " 0.805,\n",
              " 0.819,\n",
              " 0.811,\n",
              " 0.816,\n",
              " 0.812,\n",
              " 0.816,\n",
              " 0.804,\n",
              " 0.81,\n",
              " 0.804,\n",
              " 0.807,\n",
              " 0.808,\n",
              " 0.804,\n",
              " 0.808,\n",
              " 0.81,\n",
              " 0.813]"
            ]
          },
          "metadata": {
            "tags": []
          },
          "execution_count": 121
        }
      ]
    },
    {
      "cell_type": "code",
      "metadata": {
        "id": "djNnxuoLkPLI",
        "colab": {
          "base_uri": "https://localhost:8080/",
          "height": 396
        },
        "outputId": "524e7157-0fe1-46a0-9135-2038ba9811cd"
      },
      "source": [
        "plt.plot([k for k in range(1, 21)], knn_scores, color = 'red')\r\n",
        "for i in range(1,21):\r\n",
        "    plt.text(i, knn_scores[i-1], (i, knn_scores[i-1]))\r\n",
        "plt.xticks([i for i in range(1, 21)])\r\n",
        "plt.xlabel('Nombre de  (K)')\r\n",
        "plt.ylabel('Scores')\r\n",
        "plt.title('K Neighbors Classifier scores pour différente valeurs de K')"
      ],
      "execution_count": null,
      "outputs": [
        {
          "output_type": "execute_result",
          "data": {
            "text/plain": [
              "Text(0.5, 1.0, 'K Neighbors Classifier scores pour différente valeurs de K')"
            ]
          },
          "metadata": {
            "tags": []
          },
          "execution_count": 122
        },
        {
          "output_type": "display_data",
          "data": {
            "image/png": "[encoded data removed]",
            "text/plain": [
              "<Figure size 720x360 with 1 Axes>"
            ]
          },
          "metadata": {
            "tags": []
          }
        }
      ]
    },
    {
      "cell_type": "code",
      "metadata": {
        "id": "ho24XwA7kXVK",
        "colab": {
          "base_uri": "https://localhost:8080/"
        },
        "outputId": "acb69592-b25c-4dc0-db10-7e6029d269d7"
      },
      "source": [
        "knn_classifier = KNeighborsClassifier(n_neighbors = 1)\r\n",
        "scoring = 'accuracy'\r\n",
        "scoreKNN = (cross_val_score(knn_classifier,x,y, cv=k_fold, n_jobs=1, scoring=scoring))\r\n",
        "scoreKNN.round(2)"
      ],
      "execution_count": null,
      "outputs": [
        {
          "output_type": "execute_result",
          "data": {
            "text/plain": [
              "array([0.86, 0.87, 0.86, 0.86, 0.82])"
            ]
          },
          "metadata": {
            "tags": []
          },
          "execution_count": 182
        }
      ]
    },
    {
      "cell_type": "code",
      "metadata": {
        "id": "RDvl4pBKkbPK",
        "colab": {
          "base_uri": "https://localhost:8080/"
        },
        "outputId": "6a4a8b98-207a-42c7-eace-2ebf92913410"
      },
      "source": [
        "round(scoreKNN.mean(),5)"
      ],
      "execution_count": null,
      "outputs": [
        {
          "output_type": "execute_result",
          "data": {
            "text/plain": [
              "0.85397"
            ]
          },
          "metadata": {
            "tags": []
          },
          "execution_count": 184
        }
      ]
    },
    {
      "cell_type": "code",
      "metadata": {
        "id": "GCCl3e1AkjOf",
        "colab": {
          "base_uri": "https://localhost:8080/",
          "height": 366
        },
        "outputId": "d77df92c-da6e-432d-9fcf-d1e1b885e7ea"
      },
      "source": [
        "y_pred = cross_val_predict(knn_classifier,X_train,y_train, cv=k_fold)\r\n",
        "confusionmatrix=confusion_matrix(y_train,y_pred)\r\n",
        "plt.rcParams['figure.figsize'] = (10, 5)\r\n",
        "plt.style.use('ggplot')\r\n",
        "\r\n",
        "sns.heatmap(confusionmatrix, annot=True, cmap=\"YlGnBu\", fmt=\".0f\")\r\n",
        "plt.title('Matrice de Confusion de trainement', fontsize = 20)\r\n",
        "plt.show()"
      ],
      "execution_count": null,
      "outputs": [
        {
          "output_type": "display_data",
          "data": {
            "image/png": "[encoded data removed]",
            "text/plain": [
              "<Figure size 720x360 with 2 Axes>"
            ]
          },
          "metadata": {
            "tags": []
          }
        }
      ]
    },
    {
      "cell_type": "markdown",
      "metadata": {
        "id": "CqCp-ZESZsju"
      },
      "source": [
        "***testing***"
      ]
    },
    {
      "cell_type": "code",
      "metadata": {
        "colab": {
          "base_uri": "https://localhost:8080/",
          "height": 366
        },
        "id": "dV0xrmoBZs9l",
        "outputId": "cb398f6f-b125-45c4-ad93-62e860368372"
      },
      "source": [
        "y_pred = cross_val_predict(knn_classifier,X_test,y_test, cv=k_fold)\r\n",
        "confusionmatrix=confusion_matrix(y_test,y_pred)\r\n",
        "plt.rcParams['figure.figsize'] = (10, 5)\r\n",
        "plt.style.use('ggplot')\r\n",
        "\r\n",
        "sns.heatmap(confusionmatrix, annot=True, cmap=\"YlGnBu\", fmt=\".0f\")\r\n",
        "plt.title('Matrice de Confusion de test', fontsize = 20)\r\n",
        "plt.show()"
      ],
      "execution_count": null,
      "outputs": [
        {
          "output_type": "display_data",
          "data": {
            "image/png": "[encoded data removed]",
            "text/plain": [
              "<Figure size 720x360 with 2 Axes>"
            ]
          },
          "metadata": {
            "tags": []
          }
        }
      ]
    },
    {
      "cell_type": "markdown",
      "metadata": {
        "id": "Cn9Jl_tXkosz"
      },
      "source": [
        "# **Comparaison des modèles :**"
      ]
    },
    {
      "cell_type": "code",
      "metadata": {
        "id": "qiSP1gSRknQS",
        "colab": {
          "base_uri": "https://localhost:8080/",
          "height": 537
        },
        "outputId": "22c30289-3c52-4192-ff1b-484a51773e67"
      },
      "source": [
        "colors = [\"purple\", \"green\", \"orange\", \"magenta\",\"#CFC60E\",\"#0FBBAE\"]\r\n",
        "X=['Logistic Regression','KNN','Random Forest','Arbre de decision','Naive Bayes','SVM']\r\n",
        "Y=[round(scoreLR.mean(),2),round(scoreKNN.mean(),2),round(scoreRF.mean(),2),round(scoreDT.mean(),2),round(scoreNB.mean(),2),round(scoreSVM.mean(),2)]\r\n",
        "sns.set_style(\"whitegrid\")\r\n",
        "plt.figure(figsize=(16,8))\r\n",
        "plt.yticks(np.arange(0,100,10))\r\n",
        "plt.ylabel(\"Precision %\")\r\n",
        "plt.xlabel(\"Algorithms\")\r\n",
        "g=sns.barplot(X, Y, palette=colors)\r\n",
        "for i in range(len(Y)):\r\n",
        "    g.text(i, Y[i],Y[i],color='black', ha=\"center\")\r\n",
        "plt.show()"
      ],
      "execution_count": null,
      "outputs": [
        {
          "output_type": "display_data",
          "data": {
            "image/png": "[encoded data removed]",
            "text/plain": [
              "<Figure size 1152x576 with 1 Axes>"
            ]
          },
          "metadata": {
            "tags": []
          }
        }
      ]
    }
  ]
}